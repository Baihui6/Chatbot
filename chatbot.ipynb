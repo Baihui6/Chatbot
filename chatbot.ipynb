{
 "cells": [
  {
   "cell_type": "code",
   "execution_count": 2,
   "metadata": {},
   "outputs": [
    {
     "name": "stdout",
     "output_type": "stream",
     "text": [
      "Requirement already satisfied: jieba in /Users/baihuiqiu/opt/anaconda3/lib/python3.8/site-packages (0.42.1)\n",
      "Note: you may need to restart the kernel to use updated packages.\n"
     ]
    }
   ],
   "source": [
    "pip install jieba"
   ]
  },
  {
   "cell_type": "code",
   "execution_count": 1,
   "metadata": {},
   "outputs": [],
   "source": [
    "import codecs\n",
    "import jieba as jb\n",
    "import re\n",
    "import warnings\n",
    "warnings.filterwarnings(\"ignore\")\n",
    "import pandas as pd\n",
    "import random\n",
    "from sklearn.feature_extraction.text import TfidfVectorizer\n",
    "from sklearn.metrics.pairwise import cosine_similarity"
   ]
  },
  {
   "cell_type": "code",
   "execution_count": 2,
   "metadata": {},
   "outputs": [],
   "source": [
    "import pandas as pd\n",
    "import nltk \n",
    "import numpy as np\n",
    "import re\n",
    "from nltk.stem import wordnet # to perform lemmitization\n",
    "from sklearn.feature_extraction.text import CountVectorizer # to perform bow\n",
    "from sklearn.feature_extraction.text import TfidfVectorizer # to perform tfidf\n",
    "from nltk import pos_tag # for parts of speech\n",
    "from sklearn.metrics import pairwise_distances # to perfrom cosine similarity\n",
    "from nltk import word_tokenize # to create tokens\n",
    "from nltk.corpus import stopwords # for stop words"
   ]
  },
  {
   "cell_type": "code",
   "execution_count": 3,
   "metadata": {},
   "outputs": [],
   "source": [
    "from nltk.corpus import stopwords"
   ]
  },
  {
   "cell_type": "code",
   "execution_count": 4,
   "metadata": {},
   "outputs": [],
   "source": [
    "#中文分词\n",
    "def SentsTokenizer4Ch(text):\n",
    "    #sentences = re.split('(。|！|\\!|\\.|？|\\?)',text)\n",
    "#     sentences = re.split('(。|！|\\!|？|\\?)',text)\n",
    "    sentences = re.split('(。|！|\\!|？|\\?)',text)\n",
    "    new_sents = []\n",
    "    for i in range(int(len(sentences)/2)):\n",
    "        sent = sentences[2*i] + sentences[2*i+1]\n",
    "        sent = sent.replace('\\r\\n','')\n",
    "        sent = sent.strip()\n",
    "        new_sents.append(sent)\n",
    "    return new_sents\n",
    "\n",
    "#删除所有符号,只保留字母、数字和中文\n",
    "def remove_punctuation(line):\n",
    "    #line = str(line)\n",
    "    if line.strip()=='':\n",
    "        return ''\n",
    "    rule = re.compile(u\"[^a-zA-Z0-9\\u4E00-\\u9FA5]\")\n",
    "    line = rule.sub('',line)\n",
    "    return line\n",
    " \n",
    "# #中文停用词\n",
    "# def stopwordslist(filepath):  \n",
    "#     stopwords = [line.strip() for line in open(filepath, 'r', encoding='utf-8').readlines()]  \n",
    "#     return stopwords  \n",
    " \n",
    "# # #加载停用词\n",
    "# stopwords = stopwordslist(\"/Users/baihuiqiu/Desktop/111/EnglishStop Words.txt\")\n"
   ]
  },
  {
   "cell_type": "code",
   "execution_count": 5,
   "metadata": {},
   "outputs": [
    {
     "data": {
      "text/plain": [
       "[\"Logo University of Leeds Home \\nTaught and research student operations \\nCommunicating with students: \\nTHE THEME OF CONTENT\\n\\xa0Academic life - this relates to the student journey in line with the academic year.\\n\\xa0Health and wellbeing - the health and support services/facilities available to students.\\n\\xa0Study support - the wide range of study related support available to students.\\n\\xa0Opportunities - what's available to students to help them make the most of their time at Leeds.\\n\\xa0Life at Leeds - this is about campus, making the most of university life and events that are happening on campus.\\nCHANNELS\\nThe student communications team manage a number of channels that are used to inform students of university-wide messages, these are:\\xa0\\nFortnightly email newsletters to undergraduate and taught postgraduate students - previous newsletters are available on the\\xa0news section of the student website\\nA\\xa0current student Facebook group\\xa0- this is linked to the official\\xa0University page\\nTwitter account for current students\\nstudents.leeds.ac.uk\\nThe other channels used by the team, but not managed by them, are:\\xa0campus-wide\\xa0plasma screens,\\xa0Minerva, the\\xa0UniLeeds App\\xa0and traditional items such as poster and leaflets.\\xa0\\nSUBMITTING YOUR CONTENT AND DEADLINE DATES\\nComplete\\xa0this online form\\xa0so that the student communications team can include it\\xa0in their activities. You will need your university email address and password to sign in to the form.\\xa0\\nInformation about deadline dates and when the newsletter is due to go out is below:\\n\\nIf you have any questions or need further support, please email the Student Communications team:\\xa0studentcommunications@leeds.ac.uk\\n\\nASSESSMENT AND EXAMS:\\nSearch\\nHOME\\xa0ASSESSMENT AND EXAMS\\xa0\\xa0YOUR ASSESSMENT QUESTIONS ANSWERED\\nYOUR ASSESSMENT QUESTIONS ANSWERED\\nAnswers to the questions asked frequently by staff in schools and faculties\\nThe Assessment & Progress Team are frequently asked questions relating to the rules and regulations.\\xa0 The answers to the majority of these questions are already available on the SES Website.\\xa0Whilst the Assessment & Progress Team aim to always be available to give guidance and advice, it is important that staff across the campus understand that the information is easily accessible through the SES Website.\\xa0\\xa0\\n\\u2028The questions have been grouped and brief answers have been given including links to the relevant SES website pages.\\xa0 \\xa0If you have any further questions that are not covered, please contact the\\xa0Assessment & Progress Team.\\n\\u2028As further questions and guidance requests are received, we may find it useful to update this information.\\nPROGRAMME AND MODULE RELATED QUESTIONS\\nWHAT DOES THE TERM “LEVEL” MEAN?\",\n",
       " 'Level refers to the level of a module and its credits.\\nFor example:\\nCHEM1002 - a level 1 module with a credit value of 20\\xa0\\xa0 i.e. 20 level-1 credits\\nBIOC2667 - a level 2 module with a credit value of 10\\nCIVE3772 - a level 3 module with a credit value of 40\\xa0 i.e. 40 level-3 credits\\nLUBS5778M - a level M module with a credit value of 30\\nFLTU1559 - a level 1 module with a credit value of 10 which can be taken in any year of study that the programme specification allows.\\nThis is also explained in the\\xa0Rules for Award.\\n\\nWHAT DOES THE TERM “YEAR” MEAN?',\n",
       " 'Year (called Class in the Classification Tool) is the study (Academic) year that a student studies.\\xa0\\xa0Programmes are made up of modules and credits to a predetermined standard and are designed to run over a number of study years.\\nFor example:\\nFirst year of study on BA English\\nA second year student on the BSc Math programme\\xa0\\nPenultimate year of study on BEng\\nFinal year of study on BA Education (part-time) – which could be the student’s 6th year of study.\\nThis is also explained in the\\xa0Rules for Award.\\n\\nHOW MANY CREDITS CAN A STUDENT STUDY?',\n",
       " \"Undergraduate full time students must study 120 credits per year on a full-time programme.\\nTaught Postgraduate full time students must study a minimum of 180 credits, of which at least 135 must be ‘M' level credits.\\nRefer to\\xa0Modules and programmes explained,\\xa0the\\xa0Rules for Award\\xa0and/or the\\xa0Ordinances\\xa0for more information.\\nHOW MANY ATTEMPTS DOES A STUDENT HAVE TO PASS A MODULE?\",\n",
       " 'Undergraduate students who have a start date prior to academic term 2016/2017\\xa0are permitted three attempts to pass a module; the first attempt plus up to two resits.\\n\\xa0\\nOriginal attempt – at the end of Semester One or Semester Two depending on the teaching of the module.\\n2nd attempt - in the August Re-examination/Assessment period following their original attempt, unless the school has specifically precluded them from their 2nd opportunity due to failure to make a serious attempt at the original opportunity.\\n3rd and final attempt – may be taken the following session when the module is offered as an external or carried module, unless exceptional circumstances permit internal re-sit.\\nUndergraduate students who have a start date in academic term 2016/2017\\xa0are permitted two attempts to pass a module; the first attempt plus one resit.\\n\\xa0\\nOriginal attempt – at the end of Semester One or Semester Two depending on the teaching of the module.\\n2nd and final attempt - in the August Re-examination/Assessment period following their original attempt.\\n\\xa0\\nAn exception to this rule is International Foundation year students who studied their foundation year in academic year 2015/2016. These students will continue under the old regulations and will be permitted three attempts to pass a module; the first attempt plus up to two resits.\\nAll taught postgraduate students\\xa0are permitted two attempts to pass a module.\\n\\xa0\\nOriginal attempt – at the end of Semester One or Semester Two depending on the teaching of the module.\\n2nd attempt - in the August Re-examination/Assessment period or the following session depending on the timing of the original attempt.\\xa0 Guidance must be sought from the parent school.\\xa0 If the student does not attend the re-sit at the next opportunity, as stated by the school, the student will lose that final attempt and be marked Absent.\\xa0\\n\\xa0\\nRefer to\\xa0Resit eligibility and registration\\xa0for more information.\\nHOW DOES A STUDENT ENROL FOR THEIR ORIGINAL ATTEMPT?',\n",
       " 'When registering with the University, the student will automatically be registered for all of their compulsory examinations/assessments for the programme of study they have chosen.\\xa0\\nRefer to\\xa0When to enrol on your modules\\xa0on the For Students site for further information on modules and how and when to enrol on to modules.\\nWHEN CAN A STUDENT CHANGE A MODULE?',\n",
       " \"If, after the start of any semester's teaching, a student is considering a change in the modules that make up their programme of study, they should discuss the matter with an appropriate member of academic staff in their Parent School. A Change of Module form will need to be signed by their Parent School. Once signed, their Parent School will arrange for the change to be considered by any other teaching school affected. The change will only be authorised when all the schools agree.\\nWhether or not the student is permitted to change a module is likely to depend on a number of factors, including whether or not:\\nTheir attendance record is satisfactory\\nSpare capacity is available in the receiving module\\nThere is sufficient time for the student to catch up on any teaching or coursework assignments which have been missed.\\nModules may not be changed after the fourth week of teaching unless there are exceptional circumstances; if agreed, any changes after week 4 are subject to a £50 administration charge. Refer to the\\xa0Change of module\\xa0on the Students SES site for more information.\\xa0\\nIF A STUDENT TRANSFERS TO A DIFFERENT PROGRAMME OF STUDY, DO THEY HAVE TO STUDY 120 CREDITS IF THEY HAVE ALREADY ACHIEVED SOME OF THE RELEVANT CREDITS?\",\n",
       " 'Where a student transfers in credits against a programme – they are exempted from those credits and do not have to pick up a full diet.\\nFor example:\\nMasters programme of 180 credits, students can transfer in up to 60 credits, and just study the remaining 120 credits.\\xa0 They do not need to top up to 180 credits with other modules.\\xa0 Refer to\\xa0Transfer to a new programme\\xa0for more information.\\n\\xa0\\n\\xa0\\nASSESSMENT RELATED QUESTIONS INCLUDING RESITS, RESIT FEES, EXTERNAL AND OVERSEAS ASSESSMENTS\\nWHEN ARE THE UNIVERSITY ASSESSMENT PERIODS?',\n",
       " 'There are usually three University assessment periods each year - one at the end of each semester and a re-assessment period before the Summer Bank Holiday weekend in late August. During the academic year 2020/21, an assessment period\\xa0will also be held in September, and for some cohorts, assessments will be arranged by schools at other times.\\xa0 See\\xa0Assessment Timetables\\xa0for more information.\\nAssessments may be held on any of the days within the published assessment period, including weekends but excluding Bank Holiday Mondays.\\nStudents are required to be available for all assessment sessions. (NB. Although the University timetable does not schedule assessments on Bank Holidays, the University reserves the right to re-schedule assessments on a Bank Holiday if necessary).\\nRefer to\\xa0Assessment periods and timetable publication dates\\xa0for further information.\\nWHEN IS AN UNDERGRADUATE STUDENT ELIGIBLE TO RE-SIT?',\n",
       " 'If a student does not pass enough credits or does not meet their programme requirements to be eligible to progress to the next year of study, they may be eligible to re-sit failed modules in the August re-assessment period, provided that a serious attempt at the exam in January or May/June was made and their teaching school has not excluded them from doing so (indicated by an “S” next to the grade).\\nUndergraduate students who have a start date prior to academic term 2016/2017 are permitted a third and final attempt which must be taken the following session when the module is offered as an external or carried module, unless exceptional circumstances permit internal re-sit.\\nUndergraduate students who have a start date in academic term 2016/2017 are permitted only two attempts to pass a module; the first attempt plus one resit (August re-assessment period).\\nFinalists who have either a) failed the degree or b) achieved sufficient credits for the award of the Ordinary degree and are eligible to re-sit failed modules to upgrade their classification to Honours, are permitted to re-sit at the next offering of the failed module.\\nAny re-sit\\xa0has to be taken at the next opportunity, and failure to do so will result in the loss of an attempt. Marks for modules which are not taken will be classified as Absent.\\nIf the student has been granted a \"first attempt\" re-sit, they will need to confirm with their parent school if they wish to take it.\\xa0 If they accept the opportunity to re-sit as a \"first attempt\", their original mark will be expunged and their result for the re-sit will apply, even if it is lower than their original mark.\\xa0 Students should contact their Parent School to find out further information on \"first attempts\".\\nRefer to\\xa0Resits\\xa0for further information.\\nWHEN IS A TAUGHT POSTGRADUATE STUDENT ELIGIBLE TO RE-SIT?']"
      ]
     },
     "execution_count": 5,
     "metadata": {},
     "output_type": "execute_result"
    }
   ],
   "source": [
    "# myfile = \"/Users/baihuiqiu/Desktop/111/University of Leeds Education Services.txt\"\n",
    "myfile = \"/Users/baihuiqiu/Desktop/111/home.txt\"\n",
    "# myfile = \"/Users/baihuiqiu/Desktop/111/teaching_enhancement_scheme.html\"\n",
    "text = codecs.open(myfile, \"r\", \"utf-8\").read()\n",
    "sent_tokens = SentsTokenizer4Ch(text)\n",
    "sent_tokens[:10]"
   ]
  },
  {
   "cell_type": "code",
   "execution_count": 6,
   "metadata": {},
   "outputs": [],
   "source": [
    "# sent_tokens = text.replace(u'\\xa0', ' ')\n",
    "# # # print(sent_tokens)"
   ]
  },
  {
   "cell_type": "code",
   "execution_count": 7,
   "metadata": {},
   "outputs": [
    {
     "name": "stderr",
     "output_type": "stream",
     "text": [
      "Building prefix dict from the default dictionary ...\n",
      "Loading model from cache /var/folders/r1/33gjkcxn5x73kc_5y6ghkykr0000gn/T/jieba.cache\n",
      "Loading model cost 0.684 seconds.\n",
      "Prefix dict has been built successfully.\n"
     ]
    },
    {
     "data": {
      "text/html": [
       "<div>\n",
       "<style scoped>\n",
       "    .dataframe tbody tr th:only-of-type {\n",
       "        vertical-align: middle;\n",
       "    }\n",
       "\n",
       "    .dataframe tbody tr th {\n",
       "        vertical-align: top;\n",
       "    }\n",
       "\n",
       "    .dataframe thead th {\n",
       "        text-align: right;\n",
       "    }\n",
       "</style>\n",
       "<table border=\"1\" class=\"dataframe\">\n",
       "  <thead>\n",
       "    <tr style=\"text-align: right;\">\n",
       "      <th></th>\n",
       "      <th>sent</th>\n",
       "      <th>clean_set</th>\n",
       "      <th>cut_sent</th>\n",
       "    </tr>\n",
       "  </thead>\n",
       "  <tbody>\n",
       "    <tr>\n",
       "      <th>0</th>\n",
       "      <td>Logo University of Leeds Home \\nTaught and res...</td>\n",
       "      <td>Logo University of Leeds Home \\nTaught and res...</td>\n",
       "      <td>Logo   University   of   Leeds   Home   \\n Tau...</td>\n",
       "    </tr>\n",
       "    <tr>\n",
       "      <th>1</th>\n",
       "      <td>Level refers to the level of a module and its ...</td>\n",
       "      <td>Level refers to the level of a module and its ...</td>\n",
       "      <td>Level   refers   to   the   level   of   a   m...</td>\n",
       "    </tr>\n",
       "    <tr>\n",
       "      <th>2</th>\n",
       "      <td>Year (called Class in the Classification Tool)...</td>\n",
       "      <td>Year (called Class in the Classification Tool)...</td>\n",
       "      <td>Year   ( called   Class   in   the   Classific...</td>\n",
       "    </tr>\n",
       "    <tr>\n",
       "      <th>3</th>\n",
       "      <td>Undergraduate full time students must study 12...</td>\n",
       "      <td>Undergraduate full time students must study 12...</td>\n",
       "      <td>Undergraduate   full   time   students   must ...</td>\n",
       "    </tr>\n",
       "    <tr>\n",
       "      <th>4</th>\n",
       "      <td>Undergraduate students who have a start date p...</td>\n",
       "      <td>Undergraduate students who have a start date p...</td>\n",
       "      <td>Undergraduate   students   who   have   a   st...</td>\n",
       "    </tr>\n",
       "  </tbody>\n",
       "</table>\n",
       "</div>"
      ],
      "text/plain": [
       "                                                sent  \\\n",
       "0  Logo University of Leeds Home \\nTaught and res...   \n",
       "1  Level refers to the level of a module and its ...   \n",
       "2  Year (called Class in the Classification Tool)...   \n",
       "3  Undergraduate full time students must study 12...   \n",
       "4  Undergraduate students who have a start date p...   \n",
       "\n",
       "                                           clean_set  \\\n",
       "0  Logo University of Leeds Home \\nTaught and res...   \n",
       "1  Level refers to the level of a module and its ...   \n",
       "2  Year (called Class in the Classification Tool)...   \n",
       "3  Undergraduate full time students must study 12...   \n",
       "4  Undergraduate students who have a start date p...   \n",
       "\n",
       "                                            cut_sent  \n",
       "0  Logo   University   of   Leeds   Home   \\n Tau...  \n",
       "1  Level   refers   to   the   level   of   a   m...  \n",
       "2  Year   ( called   Class   in   the   Classific...  \n",
       "3  Undergraduate   full   time   students   must ...  \n",
       "4  Undergraduate   students   who   have   a   st...  "
      ]
     },
     "execution_count": 7,
     "metadata": {},
     "output_type": "execute_result"
    }
   ],
   "source": [
    "# #删除除字母,数字，汉字以外的所有符号\n",
    "df = pd.DataFrame(sent_tokens, columns=['sent'])\n",
    "# df['clean_set']=  df['sent'].apply(remove_punctuation)\n",
    "# df['clean_set'] = df['sent'].rename(columns=lambda x: x.replace(\"'\",\"\").replace('\"','')).replace(\" \",\"\")\n",
    "df['clean_set'] = df.rename(columns=lambda x: x.replace(\"'\",\"\").replace('\"','')).replace(\" \",\"\").replace(\"©\",\"\")\n",
    "\n",
    "# #分词，并过滤停用词\n",
    "# # df['cut_sent'] = df['clean_set'].apply(lambda x: \" \".join([w for w in list(jb.cut(x)) if w not in stopwords]))\n",
    "df['cut_sent'] = df['clean_set'].apply(lambda x: \" \".join([w for w in list(jb.cut(x))]))\n",
    "df.head()\n"
   ]
  },
  {
   "cell_type": "markdown",
   "metadata": {},
   "source": [
    "首先执行第一步，文本规范化处理。我们将所有的数据转化为小写，删除特殊符号，提取词干。这部分代码我们使用函数step1进行封装："
   ]
  },
  {
   "cell_type": "code",
   "execution_count": 8,
   "metadata": {},
   "outputs": [],
   "source": [
    "# function that converts text into lower case and removes special characters\n",
    "\n",
    "def step1(x):\n",
    "    for i in x:\n",
    "        a=str(i).lower()\n",
    "        p=re.sub(r'[^a-z0-9]',' ',a)\n",
    "        print(p)"
   ]
  },
  {
   "cell_type": "code",
   "execution_count": 9,
   "metadata": {},
   "outputs": [
    {
     "name": "stdout",
     "output_type": "stream",
     "text": [
      "logo   university   of   leeds   home     taught   and   research   student   operations     communicating   with   students       the   theme   of   content     academic   life       this   relates   to   the   student   journey   in   line   with   the   academic   year       health   and   wellbeing       the   health   and   support   services   facilities   available   to   students       study   support       the   wide   range   of   study   related   support   available   to   students       opportunities       what   s   available   to   students   to   help   them   make   the   most   of   their   time   at   leeds       life   at   leeds       this   is   about   campus     making   the   most   of   university   life   and   events   that   are   happening   on   campus     channels   the   student   communications   team   manage   a   number   of   channels   that   are   used   to   inform   students   of   university   wide   messages     these   are       fortnightly   email   newsletters   to   undergraduate   and   taught   postgraduate   students       previous   newsletters   are   available   on   the   news   section   of   the   student   website   a   current   student   facebook   group       this   is   linked   to   the   official   university   page   twitter   account   for   current   students   students   leeds   ac   uk   the   other   channels   used   by   the   team     but   not   managed   by   them     are     campus   wide   plasma   screens     minerva     the   unileeds   app   and   traditional   items   such   as   poster   and   leaflets       submitting   your   content   and   deadline   dates   complete   this   online   form   so   that   the   student   communications   team   can   include   it   in   their   activities     you   will   need   your   university   email   address   and   password   to   sign   in   to   the   form       information   about   deadline   dates   and   when   the   newsletter   is   due   to   go   out   is   below       if   you   have   any   questions   or   need   further   support     please   email   the   student   communications   team     studentcommunications   leeds   ac   uk     assessment   and   exams     search   home   assessment   and   exams     your   assessment   questions   answered   your   assessment   questions   answered   answers   to   the   questions   asked   frequently   by   staff   in   schools   and   faculties   the   assessment       progress   team   are   frequently   asked   questions   relating   to   the   rules   and   regulations       the   answers   to   the   majority   of   these   questions   are   already   available   on   the   ses   website     whilst   the   assessment       progress   team   aim   to   always   be   available   to   give   guidance   and   advice     it   is   important   that   staff   across   the   campus   understand   that   the   information   is   easily   accessible   through   the   ses   website           the   questions   have   been   grouped   and   brief   answers   have   been   given   including   links   to   the   relevant   ses   website   pages         if   you   have   any   further   questions   that   are   not   covered     please   contact   the   assessment       progress   team       as   further   questions   and   guidance   requests   are   received     we   may   find   it   useful   to   update   this   information     programme   and   module   related   questions   what   does   the   term     level     mean  \n",
      "level   refers   to   the   level   of   a   module   and   its   credits     for   example     chem1002       a   level   1   module   with   a   credit   value   of   20       i   e     20   level   1   credits   bioc2667       a   level   2   module   with   a   credit   value   of   10   cive3772       a   level   3   module   with   a   credit   value   of   40     i   e     40   level   3   credits   lubs5778m       a   level   m   module   with   a   credit   value   of   30   fltu1559       a   level   1   module   with   a   credit   value   of   10   which   can   be   taken   in   any   year   of   study   that   the   programme   specification   allows     this   is   also   explained   in   the   rules   for   award       what   does   the   term     year     mean  \n",
      "year     called   class   in   the   classification   tool     is   the   study     academic     year   that   a   student   studies       programmes   are   made   up   of   modules   and   credits   to   a   predetermined   standard   and   are   designed   to   run   over   a   number   of   study   years     for   example     first   year   of   study   on   ba   english   a   second   year   student   on   the   bsc   math   programme     penultimate   year   of   study   on   beng   final   year   of   study   on   ba   education     part   time         which   could   be   the   student   s   6th   year   of   study     this   is   also   explained   in   the   rules   for   award       how   many   credits   can   a   student   study  \n",
      "undergraduate   full   time   students   must   study   120   credits   per   year   on   a   full   time   programme     taught   postgraduate   full   time   students   must   study   a   minimum   of   180   credits     of   which   at   least   135   must   be     m     level   credits     refer   to   modules   and   programmes   explained     the   rules   for   award   and   or   the   ordinances   for   more   information     how   many   attempts   does   a   student   have   to   pass   a   module  \n",
      "undergraduate   students   who   have   a   start   date   prior   to   academic   term   2016   2017   are   permitted   three   attempts   to   pass   a   module     the   first   attempt   plus   up   to   two   resits         original   attempt       at   the   end   of   semester   one   or   semester   two   depending   on   the   teaching   of   the   module     2nd   attempt       in   the   august   re   examination   assessment   period   following   their   original   attempt     unless   the   school   has   specifically   precluded   them   from   their   2nd   opportunity   due   to   failure   to   make   a   serious   attempt   at   the   original   opportunity     3rd   and   final   attempt       may   be   taken   the   following   session   when   the   module   is   offered   as   an   external   or   carried   module     unless   exceptional   circumstances   permit   internal   re   sit     undergraduate   students   who   have   a   start   date   in   academic   term   2016   2017   are   permitted   two   attempts   to   pass   a   module     the   first   attempt   plus   one   resit         original   attempt       at   the   end   of   semester   one   or   semester   two   depending   on   the   teaching   of   the   module     2nd   and   final   attempt       in   the   august   re   examination   assessment   period   following   their   original   attempt         an   exception   to   this   rule   is   international   foundation   year   students   who   studied   their   foundation   year   in   academic   year   2015   2016     these   students   will   continue   under   the   old   regulations   and   will   be   permitted   three   attempts   to   pass   a   module     the   first   attempt   plus   up   to   two   resits     all   taught   postgraduate   students   are   permitted   two   attempts   to   pass   a   module         original   attempt       at   the   end   of   semester   one   or   semester   two   depending   on   the   teaching   of   the   module     2nd   attempt       in   the   august   re   examination   assessment   period   or   the   following   session   depending   on   the   timing   of   the   original   attempt       guidance   must   be   sought   from   the   parent   school       if   the   student   does   not   attend   the   re   sit   at   the   next   opportunity     as   stated   by   the   school     the   student   will   lose   that   final   attempt   and   be   marked   absent           refer   to   resit   eligibility   and   registration   for   more   information     how   does   a   student   enrol   for   their   original   attempt  \n",
      "when   registering   with   the   university     the   student   will   automatically   be   registered   for   all   of   their   compulsory   examinations   assessments   for   the   programme   of   study   they   have   chosen       refer   to   when   to   enrol   on   your   modules   on   the   for   students   site   for   further   information   on   modules   and   how   and   when   to   enrol   on   to   modules     when   can   a   student   change   a   module  \n",
      "if     after   the   start   of   any   semester   s   teaching     a   student   is   considering   a   change   in   the   modules   that   make   up   their   programme   of   study     they   should   discuss   the   matter   with   an   appropriate   member   of   academic   staff   in   their   parent   school     a   change   of   module   form   will   need   to   be   signed   by   their   parent   school     once   signed     their   parent   school   will   arrange   for   the   change   to   be   considered   by   any   other   teaching   school   affected     the   change   will   only   be   authorised   when   all   the   schools   agree     whether   or   not   the   student   is   permitted   to   change   a   module   is   likely   to   depend   on   a   number   of   factors     including   whether   or   not     their   attendance   record   is   satisfactory   spare   capacity   is   available   in   the   receiving   module   there   is   sufficient   time   for   the   student   to   catch   up   on   any   teaching   or   coursework   assignments   which   have   been   missed     modules   may   not   be   changed   after   the   fourth   week   of   teaching   unless   there   are   exceptional   circumstances     if   agreed     any   changes   after   week   4   are   subject   to   a     50   administration   charge     refer   to   the   change   of   module   on   the   students   ses   site   for   more   information       if   a   student   transfers   to   a   different   programme   of   study     do   they   have   to   study   120   credits   if   they   have   already   achieved   some   of   the   relevant   credits  \n",
      "where   a   student   transfers   in   credits   against   a   programme       they   are   exempted   from   those   credits   and   do   not   have   to   pick   up   a   full   diet     for   example     masters   programme   of   180   credits     students   can   transfer   in   up   to   60   credits     and   just   study   the   remaining   120   credits       they   do   not   need   to   top   up   to   180   credits   with   other   modules       refer   to   transfer   to   a   new   programme   for   more   information             assessment   related   questions   including   resits     resit   fees     external   and   overseas   assessments   when   are   the   university   assessment   periods  \n",
      "there   are   usually   three   university   assessment   periods   each   year       one   at   the   end   of   each   semester   and   a   re   assessment   period   before   the   summer   bank   holiday   weekend   in   late   august     during   the   academic   year   2020   21     an   assessment   period   will   also   be   held   in   september     and   for   some   cohorts     assessments   will   be   arranged   by   schools   at   other   times       see   assessment   timetables   for   more   information     assessments   may   be   held   on   any   of   the   days   within   the   published   assessment   period     including   weekends   but   excluding   bank   holiday   mondays     students   are   required   to   be   available   for   all   assessment   sessions       nb     although   the   university   timetable   does   not   schedule   assessments   on   bank   holidays     the   university   reserves   the   right   to   re   schedule   assessments   on   a   bank   holiday   if   necessary       refer   to   assessment   periods   and   timetable   publication   dates   for   further   information     when   is   an   undergraduate   student   eligible   to   re   sit  \n",
      "if   a   student   does   not   pass   enough   credits   or   does   not   meet   their   programme   requirements   to   be   eligible   to   progress   to   the   next   year   of   study     they   may   be   eligible   to   re   sit   failed   modules   in   the   august   re   assessment   period     provided   that   a   serious   attempt   at   the   exam   in   january   or   may   june   was   made   and   their   teaching   school   has   not   excluded   them   from   doing   so     indicated   by   an     s     next   to   the   grade       undergraduate   students   who   have   a   start   date   prior   to   academic   term   2016   2017   are   permitted   a   third   and   final   attempt   which   must   be   taken   the   following   session   when   the   module   is   offered   as   an   external   or   carried   module     unless   exceptional   circumstances   permit   internal   re   sit     undergraduate   students   who   have   a   start   date   in   academic   term   2016   2017   are   permitted   only   two   attempts   to   pass   a   module     the   first   attempt   plus   one   resit     august   re   assessment   period       finalists   who   have   either   a     failed   the   degree   or   b     achieved   sufficient   credits   for   the   award   of   the   ordinary   degree   and   are   eligible   to   re   sit   failed   modules   to   upgrade   their   classification   to   honours     are   permitted   to   re   sit   at   the   next   offering   of   the   failed   module     any   re   sit   has   to   be   taken   at   the   next   opportunity     and   failure   to   do   so   will   result   in   the   loss   of   an   attempt     marks   for   modules   which   are   not   taken   will   be   classified   as   absent     if   the   student   has   been   granted   a     first   attempt     re   sit     they   will   need   to   confirm   with   their   parent   school   if   they   wish   to   take   it       if   they   accept   the   opportunity   to   re   sit   as   a     first   attempt       their   original   mark   will   be   expunged   and   their   result   for   the   re   sit   will   apply     even   if   it   is   lower   than   their   original   mark       students   should   contact   their   parent   school   to   find   out   further   information   on     first   attempts       refer   to   resits   for   further   information     when   is   a   taught   postgraduate   student   eligible   to   re   sit  \n",
      "any   re   sit   has   to   be   taken   at   the   next   opportunity     and   failure   to   do   so   will   result   in   the   loss   of   an   attempt     marks   for   modules   which   are   not   taken   will   be   classified   as   absent     if   a   student   has   failed   a   module   they   may   retake   it   in   august   depending   on   if   the   re   sit   is   offered   by   the   teaching   school     and   depending   on   their   cohort     see   assessment   timetables   for   more   information   on   cohorts         students   must   take   advice   from   their   schools   as   to   when   the   re   assessment   is   offered       refer   to   resits   for   further   information   what   are   the   rules   for   students   taking   re   sits   internally   externally  \n",
      "all   undergraduate   students   are   entitled   to   a   re   sit   in   august     unless   specifically   precluded   by   the   school         following   the   august   re   assessment   period     if   an   undergraduate   student   with   a   start   date   prior   to   academic   term   2016   2017     has   failed   a   module   which   is   a   must   pass   to   progress   module     or   the   student   has   not   achieved   sufficient   credits   to   progress     then   the   student   must   become   an   external   student   the   following   session       if   the   undergraduate   student   has   a   start   date   in   academic   term   2016   2017   they   are   only   permitted   two   attempts   to   pass   a   module       if   the   student   has   failed   a   module   which   is   a   must   pass   to   progress   module     or   the   student   has   not   achieved   sufficient   credits   to   progress     having   been   unsuccessful   in   their   final   attempt     they   have   exhausted   all   attempts   and   will   therefore   be   required   to   withdraw   from   the   university   of   leeds     only   in   exceptional   circumstances   may   a   student   be   allowed   to   re   sit   internally       the   exceptional   circumstances   may   be     the   student   has   missed   too   much   teaching   to   make   any   progress   without   further   teaching     the   student   has   failed   a   laboratory   module     element     and   needs   to   use   the   laboratory   facilities   to   be   able   to   pass     the   student   had   mitigating   circumstances   and   has   been   permitted   to   expunge   the   results   of   the   year   and   retake   the   whole   year   internally   as   first   attempts       refer   to   external   carried   module   resits   for   more   information     how   does   a   student   apply   to   re   sit  \n",
      "the   student   must   submit   their   re   sit   application   online   via   the   results   and   re   sit   application   page     available   through   the   minerva   using   their   university   username   and   password   from   the   beginning   of   july         they   must   apply   for   any   module   which   has   any   assessment   they   want   to   re   sit     they   will   be   able   to   apply   to   re   sit   by   selecting     yes     next   to   the   modules   that   they   have   failed   and   are   eligible   to   re   sit     their   application   will   be   recorded   on   banner   and   processed   by   the   assessment       progress   team       refer   to   resits   for   further   information     including   the   deadlines   for   applications   to   be   submitted     undergraduate   finalists   should   refer   to   the   resits   page   for   the   deadline   for   applications     after   the   published   deadline     if   students   are   eligible   for   an   award   and   have   not   applied   to   resit     they   will   be   deemed   to   have   accepted   the   award     taught   postgraduates   wishing   to   apply   to   resit   modules     where   the   results   are   provisional     must     download   a   re   sit   application   form   from   the   provisional   marks   page     via   the   minerva       fill   out   the   form   listing   all   modules   they   want   to   re   sit     including   any   which   are   re   assessed   by   coursework   only     if   they   do   not   register   for   all   re   assessments   before   the   deadline   for   re   sit   applications     they   may   be   charged   the   increased   administration   fee     email   the   completed   form   to   the   assessment       progress   team       non   finalists   and   taught   postgraduates   can   still   apply   after   the   deadline   by   emailing   the   assessment       progress   team     applications   received   after   the   deadline   will   be   subject   to   an   increased   administration   fee       for   on   campus   assessments     students   will   only   be   allocated   a   seat   number   if   they   submit   their   application   by   the   deadline     if   they   apply   after   this     ad   hoc   arrangements   will   be   made   when   they   arrive   on   the   day     undergraduate   finalists   who   are   eligible   for   an   award   will   be   deemed   to   have   accepted   it   if   they   have   not   applied   to   resit   by   their   deadline       late   applications   won   t   be   accepted     when   is   the   re   assessment   period  \n",
      "re   sit   assessment   dates   re   sit   assessments   generally   take   place   in   august     during   the   two   weeks   prior   to   the   august   bank   holiday           see   assessment   timetables   for   more   information   on   cohorts       unfortunately   it   isn   t   possible   to   find   out   the   exact   date   of   an   assessment   before   the   students   apply   to   re   sit     this   is   because   the   timetable   is   produced   once   the   information   is   known   of   which   modules   students   have   applied   for     students   should   view   their   personal   assessment   timetable   via   minerva     see   assessment   timetable   publication   dates       students   should   check   that   they   have   been   entered   for   the   appropriate   exams     and   tell   the   assessment       progress   team   immediately   about   any   discrepancies       please   refer   to   assessment   periods   and   timetable   publication   dates   for   further   information     assessed   work   deadlines   students   should   contact   their   school   directly   to   find   out   the   deadlines   for   submitting   assessed   work     cancelling   a   re   sit   application   students   should   email   the   assessment       progress   team   to   cancel   a   re   sit   application     students   may   only   cancel   up   until   the   start   of   the   relevant   assessment   period     after   this     their   application   will   stand   and   any   re   sit   fees   will   still   be   charged     students   will   lose   an   attempt   if   they   do   not   take   the   re   sit       refer   to   resits   for   further   information     how   much   are   the   re   sit   fees  \n",
      "if   the   exam   is   a     first   attempt       there   are   no   fees     if   the   exam   is   not   a     first   attempt       the   re   sit   fees   are       2 00   per   credit     i   e       20 00   for   a   10   credit   module     plus     50 00   administration   fee     increases   to     100   after   the   deadline       this   is   a   one   off   fee     which   is   the   same   regardless   of   how   many   modules   the   student   takes     fees   for   re   sits   taken   in   august   will   be   charged   to   the   student   s   university   account   after   31   july     fees   for   re   sits   taken   at   other   times   of   the   year   will   be   charged   after   the   application   has   been   processed       you   will   receive   a   statement   of   fees   by   email   and   must   pay   immediately       failure   to   pay   will   result   in   late   payment   administration   charges   of     20   per   month   until   the   debt   is   repaid   in   full       for   further   information     refer   to   http       www   leeds   ac   uk   students   waystopay   and   resits     can   a   student   take   their   re   sit   assessment   abroad  \n",
      "students   may   be   eligible   to   sit   their   re   sit     or   approved   further   first   attempt     assessment   abroad   if     the   student   s   home   address   is   outside   of   the   uk   and   the   assessments   are   taken   in   their   home   country     the   student   is   working   or   studying   abroad   as   part   of   their   programme     the   student   is   studying   here   as   an   exchange   student   and   returning   home     if   the   student   lives   outside   the   uk     the   location   that   they   apply   to   resit   at   must   be   in   their   home   country     the   assessment   must   be   suitable   to   be   taken   outside   the   university   and   a   suitable   assessment   environment   must   be   available     e   g     british   council     home   university       if   eligible   the   assessment       progress   team   will   process   the   application       if   the   student   does   not   fall   into   any   of   the   above   category   they   will   be   advised   to   submit   a   further   case   to   their   parent   school     explaining   their   reason       the   sscc   should   hear   the   case   and   reach   a   decision   on   whether   or   not   to   permit   the   student   to   take   the   assessment   overseas       the   assessment   must   be   suitable   to   be   taken   outside   the   university     and   a   suitable   assessment   environment   must   be   available     e   g     british   council     home   university       schools   need   to   inform   the   student   and   the   assessment       progress   team   of   the   sscc   s   decision       if   permission   to   take   the   assessment   overseas   is   granted     the   assessment       progress   team   will   liaise   with   the   student   and   the   relevant   hosting   institution   and   make   the   necessary   arrangements       please   refer   to   taking   assessments   abroad   for   more   information     can   a   student   retake   a   module   they   have   already   passed  \n",
      "other   questions   how   can   students   access   their   provisional   marks   and   final   results  \n",
      "students   use   the   minerva   to   access   their   provisional   marks   and   final   results     if   they   need   to   re   sit   any   modules     they   will   need   to   submit   an   online   application   before   the   relevant   deadline     accessing   results   and   re   sit   application   pages   all   results   and   re   sits   application   pages   are   available   via   the   minerva     to   access   these   pages     the   students     should   log   into   the   minerva   using   their   university   username   and   password   on   the   toolbar   in   the   top   right     click   the   icon   called     academic   student   services     click   the   examinations   tab   select   results   and   resit   application   select   the   term   which   has   just   been   completed   click   on   submit   provisional   marks   students   will   be   informed   by   their   teaching   school   s     when   their   provisional   marks   have   been   made   available   online     choose     provisional   marks     from   the   menu   on   the   examinations   tab   in   academic   student   services     some   marks   for   postgraduate   students   are   confirmed   during   june   at   the   same   time   as   undergraduate   results     and   may   not   be   released   as   provisional     these   marks   will   be   available   as   final   marks   on   the   official   results   day     dates   for   results   and   re   sit   applications   can   be   found   in   the   timeline   of   events       please   refer   to   results   for   more   information     final   results   dates   for   final   results   can   be   found   in   the   timeline   of   events       students   will   see   a   list   of   their   module   marks   and   their   award     if   they   have   completed   their   programme       what   are   supernumerary   modules   and   how   many   can   students   take  \n",
      "supernumerary   modules   are   modules   chosen   by   students   for   interest   only   and   are   taken   as   extra   credits   on   top   of   the   normal   amount   of   credits   for   the   year     i   e     over   120   credits   in   any   undergraduate   programme   year   or   over   180   in   any   postgraduate   programme   year         this   means   the   credits   gained   in   supernumerary   modules   cannot   be   counted   for   progression     e   g     a   student   passing   70   credits   plus   a   10   credit   supernumerary   module   is   not   permitted   to   include   the   supernumerary   credits   to   give   them   the   80   credits   required   to   progress     or   classification   purposes     where   any   supernumerary   modules     i   e     over   120   credits   in   any   undergraduate   programme   year   or   over   180   in   any   postgraduate   programme   year     are   required   to   meet   the   learning   outcomes   of   a   specific   programme     the   rule   as   to   whether   these   credits   count   for   classification   should   be   stated   in   the   programme   specification   and   made   clear   in   corresponding   material   for   students     where   students   opt   to   take   supernumerary   modules   outside   of   the   programme   specification   these   do   not   count   towards   classification     students   are   permitted   to   register   for   up   to   20   credits   of   supernumerary   modules   each   year     at   the   discretion   of   the   parent   school     and   schools   must   inform   the   exams   and   progress   team   of   the   choice   at   the   beginning   of   the   session   and   before   the   deadline   for   changing   modules       supernumerary   modules   will   be   recorded   on   banner   with   a   status   of   sn   and   marks   gained   for   such   modules   will   appear   on   official   transcripts       refer   to   supernumerary   modules   for   further   guidance       see   the   timeline   of   events   for   deadlines     what   are   ad   hoc   ad   personam   programmes  \n",
      "in   exceptional   circumstances   it   may   be   necessary   to   make   time   limited   amendments   to   a   programme   of   study     where   these   circumstances   relate   to   one   student   or   a   small   number   of   individual   students     the   amended   programme   is   referred   to   as   an   ad   personam   programme   variation     where   the   circumstances   relate   to   an   entire   cohort   of   students     it   is   an   ad   hoc   programme   variation       any   ad   personam   or   ad   hoc   programme   variation   is   subject   to   the   approval   of   the   relevant   pro   dean   for   student   education     acting   on   behalf   of   the   faculty   taught   student   education   committee     ftsec       the   head   of   school   must   make   a   case   for   an   ad   personam   or   an   ad   hoc   programme   and   forward   this   onto   the   exams   and   progress   team     who   will   seek   approval   from   the   pro   dean   for   student   education     refer   to   ad   personam   and   ad   hoc   programme   variation   process   for   further   guidance     what   drives   the   assessment       progress   team   deadlines  \n"
     ]
    }
   ],
   "source": [
    "step1(df['cut_sent'])"
   ]
  },
  {
   "cell_type": "markdown",
   "metadata": {},
   "source": [
    "可以看到文本已经干净多了。分词指的是将文本字符串切分为词条"
   ]
  },
  {
   "cell_type": "code",
   "execution_count": 10,
   "metadata": {},
   "outputs": [
    {
     "name": "stdout",
     "output_type": "stream",
     "text": [
      "['WHAT', 'DOES', 'THE', 'TERM', '“', 'LEVEL', '”', 'MEAN', '?']\n"
     ]
    }
   ],
   "source": [
    " # word tokenizing\n",
    "    \n",
    "s='WHAT DOES THE TERM “LEVEL” MEAN?'\n",
    "words=word_tokenize(s)\n",
    "print(words)"
   ]
  },
  {
   "cell_type": "code",
   "execution_count": 11,
   "metadata": {},
   "outputs": [
    {
     "data": {
      "text/plain": [
       "'absorb'"
      ]
     },
     "execution_count": 11,
     "metadata": {},
     "output_type": "execute_result"
    }
   ],
   "source": [
    "lemma = wordnet.WordNetLemmatizer() # intializing lemmatizer\n",
    "lemma.lemmatize('absorbed', pos = 'v')"
   ]
  },
  {
   "cell_type": "markdown",
   "metadata": {},
   "source": [
    "pos_tag函数返回每个词条在文本中的作用："
   ]
  },
  {
   "cell_type": "code",
   "execution_count": 12,
   "metadata": {},
   "outputs": [
    {
     "data": {
      "text/plain": [
       "[('WHAT', 'WP'),\n",
       " ('DOES', 'VBZ'),\n",
       " ('THE', 'DT'),\n",
       " ('TERM', 'NNP'),\n",
       " ('“', 'NNP'),\n",
       " ('LEVEL', 'NNP'),\n",
       " ('”', 'NNP'),\n",
       " ('MEAN', 'NNP'),\n",
       " ('?', '.')]"
      ]
     },
     "execution_count": 12,
     "metadata": {},
     "output_type": "execute_result"
    }
   ],
   "source": [
    "pos_tag(nltk.word_tokenize(s),tagset = None) # returns the parts of speech of every word"
   ]
  },
  {
   "cell_type": "markdown",
   "metadata": {},
   "source": [
    "我们现在将创建一个函数来整合上面这些环节的代码：\n",
    "\n"
   ]
  },
  {
   "cell_type": "code",
   "execution_count": 13,
   "metadata": {},
   "outputs": [],
   "source": [
    "# function that performs text normalization steps\n",
    "\n",
    "def text_normalization(text):\n",
    "    text=str(text).lower() # text to lower case\n",
    "    spl_char_text=re.sub(r'[^ a-z]','',text) # removing special characters\n",
    "    tokens=nltk.word_tokenize(spl_char_text) # word tokenizing\n",
    "    lema=wordnet.WordNetLemmatizer() # intializing lemmatization\n",
    "    tags_list=pos_tag(tokens,tagset=None) # parts of speech\n",
    "    lema_words=[]   # empty list \n",
    "    for token,pos_token in tags_list:\n",
    "        if pos_token.startswith('V'):  # Verb\n",
    "            pos_val='v'\n",
    "        elif pos_token.startswith('J'): # Adjective\n",
    "            pos_val='a'\n",
    "        elif pos_token.startswith('R'): # Adverb\n",
    "            pos_val='r'\n",
    "        else:\n",
    "            pos_val='n' # Noun\n",
    "        lema_token=lema.lemmatize(token,pos_val) # performing lemmatization\n",
    "        lema_words.append(lema_token) # appending the lemmatized token into a list\n",
    "    \n",
    "    return \" \".join(lema_words) # returns the lemmatized tokens as a sentence"
   ]
  },
  {
   "cell_type": "markdown",
   "metadata": {},
   "source": [
    "让我们用这个函数处理数据集："
   ]
  },
  {
   "cell_type": "code",
   "execution_count": 14,
   "metadata": {},
   "outputs": [
    {
     "data": {
      "text/plain": [
       "'tell you some stuff about me'"
      ]
     },
     "execution_count": 14,
     "metadata": {},
     "output_type": "execute_result"
    }
   ],
   "source": [
    "text_normalization('telling you some stuff about me')"
   ]
  },
  {
   "cell_type": "code",
   "execution_count": 15,
   "metadata": {},
   "outputs": [
    {
     "data": {
      "text/html": [
       "<div>\n",
       "<style scoped>\n",
       "    .dataframe tbody tr th:only-of-type {\n",
       "        vertical-align: middle;\n",
       "    }\n",
       "\n",
       "    .dataframe tbody tr th {\n",
       "        vertical-align: top;\n",
       "    }\n",
       "\n",
       "    .dataframe thead th {\n",
       "        text-align: right;\n",
       "    }\n",
       "</style>\n",
       "<table border=\"1\" class=\"dataframe\">\n",
       "  <thead>\n",
       "    <tr style=\"text-align: right;\">\n",
       "      <th></th>\n",
       "      <th>sent</th>\n",
       "      <th>clean_set</th>\n",
       "      <th>cut_sent</th>\n",
       "      <th>lemmatized_text</th>\n",
       "    </tr>\n",
       "  </thead>\n",
       "  <tbody>\n",
       "    <tr>\n",
       "      <th>5</th>\n",
       "      <td>When registering with the University, the stud...</td>\n",
       "      <td>When registering with the University, the stud...</td>\n",
       "      <td>When   registering   with   the   University ,...</td>\n",
       "      <td>when register with the university the student ...</td>\n",
       "    </tr>\n",
       "    <tr>\n",
       "      <th>6</th>\n",
       "      <td>If, after the start of any semester's teaching...</td>\n",
       "      <td>If, after the start of any semester's teaching...</td>\n",
       "      <td>If ,   after   the   start   of   any   semest...</td>\n",
       "      <td>if after the start of any semester s teach a s...</td>\n",
       "    </tr>\n",
       "    <tr>\n",
       "      <th>7</th>\n",
       "      <td>Where a student transfers in credits against a...</td>\n",
       "      <td>Where a student transfers in credits against a...</td>\n",
       "      <td>Where   a   student   transfers   in   credits...</td>\n",
       "      <td>where a student transfer in credit against a p...</td>\n",
       "    </tr>\n",
       "    <tr>\n",
       "      <th>8</th>\n",
       "      <td>There are usually three University assessment ...</td>\n",
       "      <td>There are usually three University assessment ...</td>\n",
       "      <td>There   are   usually   three   University   a...</td>\n",
       "      <td>there be usually three university assessment p...</td>\n",
       "    </tr>\n",
       "    <tr>\n",
       "      <th>9</th>\n",
       "      <td>If a student does not pass enough credits or d...</td>\n",
       "      <td>If a student does not pass enough credits or d...</td>\n",
       "      <td>If   a   student   does   not   pass   enough ...</td>\n",
       "      <td>if a student do not pass enough credit or do n...</td>\n",
       "    </tr>\n",
       "    <tr>\n",
       "      <th>10</th>\n",
       "      <td>Any re-sit has to be taken at the next opportu...</td>\n",
       "      <td>Any re-sit has to be taken at the next opportu...</td>\n",
       "      <td>Any   re - sit   has   to   be   taken   at   ...</td>\n",
       "      <td>any re sit have to be take at the next opportu...</td>\n",
       "    </tr>\n",
       "    <tr>\n",
       "      <th>11</th>\n",
       "      <td>All undergraduate students are entitled to a r...</td>\n",
       "      <td>All undergraduate students are entitled to a r...</td>\n",
       "      <td>All   undergraduate   students   are   entitle...</td>\n",
       "      <td>all undergraduate student be entitle to a re s...</td>\n",
       "    </tr>\n",
       "    <tr>\n",
       "      <th>12</th>\n",
       "      <td>The student must submit their re-sit applicati...</td>\n",
       "      <td>The student must submit their re-sit applicati...</td>\n",
       "      <td>The   student   must   submit   their   re - s...</td>\n",
       "      <td>the student must submit their re sit applicati...</td>\n",
       "    </tr>\n",
       "    <tr>\n",
       "      <th>13</th>\n",
       "      <td>Re-sit assessment dates\\nRe-sit assessments ge...</td>\n",
       "      <td>Re-sit assessment dates\\nRe-sit assessments ge...</td>\n",
       "      <td>Re - sit   assessment   dates \\n Re - sit   as...</td>\n",
       "      <td>re sit assessment date re sit assessment gener...</td>\n",
       "    </tr>\n",
       "    <tr>\n",
       "      <th>14</th>\n",
       "      <td>If the exam is a “first attempt”, there are no...</td>\n",
       "      <td>If the exam is a “first attempt”, there are no...</td>\n",
       "      <td>If   the   exam   is   a   “ first   attempt ”...</td>\n",
       "      <td>if the exam be a first attempt there be no fee...</td>\n",
       "    </tr>\n",
       "    <tr>\n",
       "      <th>15</th>\n",
       "      <td>Students may be eligible to sit their re-sit (...</td>\n",
       "      <td>Students may be eligible to sit their re-sit (...</td>\n",
       "      <td>Students   may   be   eligible   to   sit   th...</td>\n",
       "      <td>student may be eligible to sit their re sit or...</td>\n",
       "    </tr>\n",
       "    <tr>\n",
       "      <th>16</th>\n",
       "      <td>OTHER QUESTIONS\\nHOW CAN STUDENTS ACCESS THEIR...</td>\n",
       "      <td>OTHER QUESTIONS\\nHOW CAN STUDENTS ACCESS THEIR...</td>\n",
       "      <td>OTHER   QUESTIONS \\n HOW   CAN   STUDENTS   AC...</td>\n",
       "      <td>other question how can student access their pr...</td>\n",
       "    </tr>\n",
       "    <tr>\n",
       "      <th>17</th>\n",
       "      <td>Students use the Minerva to access their provi...</td>\n",
       "      <td>Students use the Minerva to access their provi...</td>\n",
       "      <td>Students   use   the   Minerva   to   access  ...</td>\n",
       "      <td>student use the minerva to access their provis...</td>\n",
       "    </tr>\n",
       "    <tr>\n",
       "      <th>18</th>\n",
       "      <td>Supernumerary modules are modules chosen by st...</td>\n",
       "      <td>Supernumerary modules are modules chosen by st...</td>\n",
       "      <td>Supernumerary   modules   are   modules   chos...</td>\n",
       "      <td>supernumerary module be module choose by stude...</td>\n",
       "    </tr>\n",
       "    <tr>\n",
       "      <th>19</th>\n",
       "      <td>In exceptional circumstances it may be necessa...</td>\n",
       "      <td>In exceptional circumstances it may be necessa...</td>\n",
       "      <td>In   exceptional   circumstances   it   may   ...</td>\n",
       "      <td>in exceptional circumstance it may be necessar...</td>\n",
       "    </tr>\n",
       "  </tbody>\n",
       "</table>\n",
       "</div>"
      ],
      "text/plain": [
       "                                                 sent  \\\n",
       "5   When registering with the University, the stud...   \n",
       "6   If, after the start of any semester's teaching...   \n",
       "7   Where a student transfers in credits against a...   \n",
       "8   There are usually three University assessment ...   \n",
       "9   If a student does not pass enough credits or d...   \n",
       "10  Any re-sit has to be taken at the next opportu...   \n",
       "11  All undergraduate students are entitled to a r...   \n",
       "12  The student must submit their re-sit applicati...   \n",
       "13  Re-sit assessment dates\\nRe-sit assessments ge...   \n",
       "14  If the exam is a “first attempt”, there are no...   \n",
       "15  Students may be eligible to sit their re-sit (...   \n",
       "16  OTHER QUESTIONS\\nHOW CAN STUDENTS ACCESS THEIR...   \n",
       "17  Students use the Minerva to access their provi...   \n",
       "18  Supernumerary modules are modules chosen by st...   \n",
       "19  In exceptional circumstances it may be necessa...   \n",
       "\n",
       "                                            clean_set  \\\n",
       "5   When registering with the University, the stud...   \n",
       "6   If, after the start of any semester's teaching...   \n",
       "7   Where a student transfers in credits against a...   \n",
       "8   There are usually three University assessment ...   \n",
       "9   If a student does not pass enough credits or d...   \n",
       "10  Any re-sit has to be taken at the next opportu...   \n",
       "11  All undergraduate students are entitled to a r...   \n",
       "12  The student must submit their re-sit applicati...   \n",
       "13  Re-sit assessment dates\\nRe-sit assessments ge...   \n",
       "14  If the exam is a “first attempt”, there are no...   \n",
       "15  Students may be eligible to sit their re-sit (...   \n",
       "16  OTHER QUESTIONS\\nHOW CAN STUDENTS ACCESS THEIR...   \n",
       "17  Students use the Minerva to access their provi...   \n",
       "18  Supernumerary modules are modules chosen by st...   \n",
       "19  In exceptional circumstances it may be necessa...   \n",
       "\n",
       "                                             cut_sent  \\\n",
       "5   When   registering   with   the   University ,...   \n",
       "6   If ,   after   the   start   of   any   semest...   \n",
       "7   Where   a   student   transfers   in   credits...   \n",
       "8   There   are   usually   three   University   a...   \n",
       "9   If   a   student   does   not   pass   enough ...   \n",
       "10  Any   re - sit   has   to   be   taken   at   ...   \n",
       "11  All   undergraduate   students   are   entitle...   \n",
       "12  The   student   must   submit   their   re - s...   \n",
       "13  Re - sit   assessment   dates \\n Re - sit   as...   \n",
       "14  If   the   exam   is   a   “ first   attempt ”...   \n",
       "15  Students   may   be   eligible   to   sit   th...   \n",
       "16  OTHER   QUESTIONS \\n HOW   CAN   STUDENTS   AC...   \n",
       "17  Students   use   the   Minerva   to   access  ...   \n",
       "18  Supernumerary   modules   are   modules   chos...   \n",
       "19  In   exceptional   circumstances   it   may   ...   \n",
       "\n",
       "                                      lemmatized_text  \n",
       "5   when register with the university the student ...  \n",
       "6   if after the start of any semester s teach a s...  \n",
       "7   where a student transfer in credit against a p...  \n",
       "8   there be usually three university assessment p...  \n",
       "9   if a student do not pass enough credit or do n...  \n",
       "10  any re sit have to be take at the next opportu...  \n",
       "11  all undergraduate student be entitle to a re s...  \n",
       "12  the student must submit their re sit applicati...  \n",
       "13  re sit assessment date re sit assessment gener...  \n",
       "14  if the exam be a first attempt there be no fee...  \n",
       "15  student may be eligible to sit their re sit or...  \n",
       "16  other question how can student access their pr...  \n",
       "17  student use the minerva to access their provis...  \n",
       "18  supernumerary module be module choose by stude...  \n",
       "19  in exceptional circumstance it may be necessar...  "
      ]
     },
     "execution_count": 15,
     "metadata": {},
     "output_type": "execute_result"
    }
   ],
   "source": [
    "df['lemmatized_text']=df['cut_sent'].apply(text_normalization) # applying the fuction to the dataset to get clean text\n",
    "df.tail(15)\n",
    "\n"
   ]
  },
  {
   "cell_type": "markdown",
   "metadata": {},
   "source": [
    "下一步是单词嵌入表示，两次词义相近的词，其嵌入表示的距离也相近。有两种模型可以用于这个处理环节：词袋模型和tf-idf模型。"
   ]
  },
  {
   "cell_type": "markdown",
   "metadata": {},
   "source": [
    "词袋模型:词袋模型是描述文本中出现的单词的一种表示方法。例如，假设我们的词典中包含单词{Playing, is, love}，我们希望矢量化文本“Playing football is love”，那么得到的矢量就是： (1, 0, 1, 1)。"
   ]
  },
  {
   "cell_type": "code",
   "execution_count": 16,
   "metadata": {},
   "outputs": [
    {
     "name": "stdout",
     "output_type": "stream",
     "text": [
      "['i', 'me', 'my', 'myself', 'we', 'our', 'ours', 'ourselves', 'you', \"you're\", \"you've\", \"you'll\", \"you'd\", 'your', 'yours', 'yourself', 'yourselves', 'he', 'him', 'his', 'himself', 'she', \"she's\", 'her', 'hers', 'herself', 'it', \"it's\", 'its', 'itself', 'they', 'them', 'their', 'theirs', 'themselves', 'what', 'which', 'who', 'whom', 'this', 'that', \"that'll\", 'these', 'those', 'am', 'is', 'are', 'was', 'were', 'be', 'been', 'being', 'have', 'has', 'had', 'having', 'do', 'does', 'did', 'doing', 'a', 'an', 'the', 'and', 'but', 'if', 'or', 'because', 'as', 'until', 'while', 'of', 'at', 'by', 'for', 'with', 'about', 'against', 'between', 'into', 'through', 'during', 'before', 'after', 'above', 'below', 'to', 'from', 'up', 'down', 'in', 'out', 'on', 'off', 'over', 'under', 'again', 'further', 'then', 'once', 'here', 'there', 'when', 'where', 'why', 'how', 'all', 'any', 'both', 'each', 'few', 'more', 'most', 'other', 'some', 'such', 'no', 'nor', 'not', 'only', 'own', 'same', 'so', 'than', 'too', 'very', 's', 't', 'can', 'will', 'just', 'don', \"don't\", 'should', \"should've\", 'now', 'd', 'll', 'm', 'o', 're', 've', 'y', 'ain', 'aren', \"aren't\", 'couldn', \"couldn't\", 'didn', \"didn't\", 'doesn', \"doesn't\", 'hadn', \"hadn't\", 'hasn', \"hasn't\", 'haven', \"haven't\", 'isn', \"isn't\", 'ma', 'mightn', \"mightn't\", 'mustn', \"mustn't\", 'needn', \"needn't\", 'shan', \"shan't\", 'shouldn', \"shouldn't\", 'wasn', \"wasn't\", 'weren', \"weren't\", 'won', \"won't\", 'wouldn', \"wouldn't\"]\n"
     ]
    }
   ],
   "source": [
    "# all the stop words we have \n",
    "\n",
    "stop = stopwords.words('english')\n",
    "print(stop)"
   ]
  },
  {
   "cell_type": "code",
   "execution_count": 17,
   "metadata": {},
   "outputs": [],
   "source": [
    "cv = CountVectorizer() # intializing the count vectorizer\n",
    "X = cv.fit_transform(df['lemmatized_text']).toarray()"
   ]
  },
  {
   "cell_type": "code",
   "execution_count": 18,
   "metadata": {},
   "outputs": [
    {
     "data": {
      "text/html": [
       "<div>\n",
       "<style scoped>\n",
       "    .dataframe tbody tr th:only-of-type {\n",
       "        vertical-align: middle;\n",
       "    }\n",
       "\n",
       "    .dataframe tbody tr th {\n",
       "        vertical-align: top;\n",
       "    }\n",
       "\n",
       "    .dataframe thead th {\n",
       "        text-align: right;\n",
       "    }\n",
       "</style>\n",
       "<table border=\"1\" class=\"dataframe\">\n",
       "  <thead>\n",
       "    <tr style=\"text-align: right;\">\n",
       "      <th></th>\n",
       "      <th>able</th>\n",
       "      <th>about</th>\n",
       "      <th>above</th>\n",
       "      <th>abroad</th>\n",
       "      <th>absent</th>\n",
       "      <th>ac</th>\n",
       "      <th>academic</th>\n",
       "      <th>accept</th>\n",
       "      <th>access</th>\n",
       "      <th>accessible</th>\n",
       "      <th>...</th>\n",
       "      <th>with</th>\n",
       "      <th>withdraw</th>\n",
       "      <th>within</th>\n",
       "      <th>without</th>\n",
       "      <th>work</th>\n",
       "      <th>www</th>\n",
       "      <th>year</th>\n",
       "      <th>yes</th>\n",
       "      <th>you</th>\n",
       "      <th>your</th>\n",
       "    </tr>\n",
       "  </thead>\n",
       "  <tbody>\n",
       "    <tr>\n",
       "      <th>0</th>\n",
       "      <td>0</td>\n",
       "      <td>2</td>\n",
       "      <td>0</td>\n",
       "      <td>0</td>\n",
       "      <td>0</td>\n",
       "      <td>2</td>\n",
       "      <td>2</td>\n",
       "      <td>0</td>\n",
       "      <td>0</td>\n",
       "      <td>1</td>\n",
       "      <td>...</td>\n",
       "      <td>2</td>\n",
       "      <td>0</td>\n",
       "      <td>0</td>\n",
       "      <td>0</td>\n",
       "      <td>0</td>\n",
       "      <td>0</td>\n",
       "      <td>1</td>\n",
       "      <td>0</td>\n",
       "      <td>3</td>\n",
       "      <td>4</td>\n",
       "    </tr>\n",
       "    <tr>\n",
       "      <th>1</th>\n",
       "      <td>0</td>\n",
       "      <td>0</td>\n",
       "      <td>0</td>\n",
       "      <td>0</td>\n",
       "      <td>0</td>\n",
       "      <td>0</td>\n",
       "      <td>0</td>\n",
       "      <td>0</td>\n",
       "      <td>0</td>\n",
       "      <td>0</td>\n",
       "      <td>...</td>\n",
       "      <td>5</td>\n",
       "      <td>0</td>\n",
       "      <td>0</td>\n",
       "      <td>0</td>\n",
       "      <td>0</td>\n",
       "      <td>0</td>\n",
       "      <td>2</td>\n",
       "      <td>0</td>\n",
       "      <td>0</td>\n",
       "      <td>0</td>\n",
       "    </tr>\n",
       "    <tr>\n",
       "      <th>2</th>\n",
       "      <td>0</td>\n",
       "      <td>0</td>\n",
       "      <td>0</td>\n",
       "      <td>0</td>\n",
       "      <td>0</td>\n",
       "      <td>0</td>\n",
       "      <td>1</td>\n",
       "      <td>0</td>\n",
       "      <td>0</td>\n",
       "      <td>0</td>\n",
       "      <td>...</td>\n",
       "      <td>0</td>\n",
       "      <td>0</td>\n",
       "      <td>0</td>\n",
       "      <td>0</td>\n",
       "      <td>0</td>\n",
       "      <td>0</td>\n",
       "      <td>8</td>\n",
       "      <td>0</td>\n",
       "      <td>0</td>\n",
       "      <td>0</td>\n",
       "    </tr>\n",
       "    <tr>\n",
       "      <th>3</th>\n",
       "      <td>0</td>\n",
       "      <td>0</td>\n",
       "      <td>0</td>\n",
       "      <td>0</td>\n",
       "      <td>0</td>\n",
       "      <td>0</td>\n",
       "      <td>0</td>\n",
       "      <td>0</td>\n",
       "      <td>0</td>\n",
       "      <td>0</td>\n",
       "      <td>...</td>\n",
       "      <td>0</td>\n",
       "      <td>0</td>\n",
       "      <td>0</td>\n",
       "      <td>0</td>\n",
       "      <td>0</td>\n",
       "      <td>0</td>\n",
       "      <td>1</td>\n",
       "      <td>0</td>\n",
       "      <td>0</td>\n",
       "      <td>0</td>\n",
       "    </tr>\n",
       "    <tr>\n",
       "      <th>4</th>\n",
       "      <td>0</td>\n",
       "      <td>0</td>\n",
       "      <td>0</td>\n",
       "      <td>0</td>\n",
       "      <td>1</td>\n",
       "      <td>0</td>\n",
       "      <td>3</td>\n",
       "      <td>0</td>\n",
       "      <td>0</td>\n",
       "      <td>0</td>\n",
       "      <td>...</td>\n",
       "      <td>0</td>\n",
       "      <td>0</td>\n",
       "      <td>0</td>\n",
       "      <td>0</td>\n",
       "      <td>0</td>\n",
       "      <td>0</td>\n",
       "      <td>3</td>\n",
       "      <td>0</td>\n",
       "      <td>0</td>\n",
       "      <td>0</td>\n",
       "    </tr>\n",
       "  </tbody>\n",
       "</table>\n",
       "<p>5 rows × 559 columns</p>\n",
       "</div>"
      ],
      "text/plain": [
       "   able  about  above  abroad  absent  ac  academic  accept  access  \\\n",
       "0     0      2      0       0       0   2         2       0       0   \n",
       "1     0      0      0       0       0   0         0       0       0   \n",
       "2     0      0      0       0       0   0         1       0       0   \n",
       "3     0      0      0       0       0   0         0       0       0   \n",
       "4     0      0      0       0       1   0         3       0       0   \n",
       "\n",
       "   accessible  ...  with  withdraw  within  without  work  www  year  yes  \\\n",
       "0           1  ...     2         0       0        0     0    0     1    0   \n",
       "1           0  ...     5         0       0        0     0    0     2    0   \n",
       "2           0  ...     0         0       0        0     0    0     8    0   \n",
       "3           0  ...     0         0       0        0     0    0     1    0   \n",
       "4           0  ...     0         0       0        0     0    0     3    0   \n",
       "\n",
       "   you  your  \n",
       "0    3     4  \n",
       "1    0     0  \n",
       "2    0     0  \n",
       "3    0     0  \n",
       "4    0     0  \n",
       "\n",
       "[5 rows x 559 columns]"
      ]
     },
     "execution_count": 18,
     "metadata": {},
     "output_type": "execute_result"
    }
   ],
   "source": [
    "# returns all the unique word from data \n",
    "\n",
    "features = cv.get_feature_names()\n",
    "df_bow = pd.DataFrame(X, columns = features)\n",
    "df_bow.head()"
   ]
  },
  {
   "cell_type": "code",
   "execution_count": 19,
   "metadata": {},
   "outputs": [
    {
     "name": "stdout",
     "output_type": "stream",
     "text": [
      "['i', 'me', 'my', 'myself', 'we', 'our', 'ours', 'ourselves', 'you', \"you're\", \"you've\", \"you'll\", \"you'd\", 'your', 'yours', 'yourself', 'yourselves', 'he', 'him', 'his', 'himself', 'she', \"she's\", 'her', 'hers', 'herself', 'it', \"it's\", 'its', 'itself', 'they', 'them', 'their', 'theirs', 'themselves', 'what', 'which', 'who', 'whom', 'this', 'that', \"that'll\", 'these', 'those', 'am', 'is', 'are', 'was', 'were', 'be', 'been', 'being', 'have', 'has', 'had', 'having', 'do', 'does', 'did', 'doing', 'a', 'an', 'the', 'and', 'but', 'if', 'or', 'because', 'as', 'until', 'while', 'of', 'at', 'by', 'for', 'with', 'about', 'against', 'between', 'into', 'through', 'during', 'before', 'after', 'above', 'below', 'to', 'from', 'up', 'down', 'in', 'out', 'on', 'off', 'over', 'under', 'again', 'further', 'then', 'once', 'here', 'there', 'when', 'where', 'why', 'how', 'all', 'any', 'both', 'each', 'few', 'more', 'most', 'other', 'some', 'such', 'no', 'nor', 'not', 'only', 'own', 'same', 'so', 'than', 'too', 'very', 's', 't', 'can', 'will', 'just', 'don', \"don't\", 'should', \"should've\", 'now', 'd', 'll', 'm', 'o', 're', 've', 'y', 'ain', 'aren', \"aren't\", 'couldn', \"couldn't\", 'didn', \"didn't\", 'doesn', \"doesn't\", 'hadn', \"hadn't\", 'hasn', \"hasn't\", 'haven', \"haven't\", 'isn', \"isn't\", 'ma', 'mightn', \"mightn't\", 'mustn', \"mustn't\", 'needn', \"needn't\", 'shan', \"shan't\", 'shouldn', \"shouldn't\", 'wasn', \"wasn't\", 'weren', \"weren't\", 'won', \"won't\", 'wouldn', \"wouldn't\"]\n"
     ]
    }
   ],
   "source": [
    "# all the stop words we have \n",
    "\n",
    "stop = stopwords.words('english')\n",
    "print(stop)"
   ]
  },
  {
   "cell_type": "code",
   "execution_count": 20,
   "metadata": {},
   "outputs": [],
   "source": [
    "Question ='WHAT DOES THE TERM “LEVEL”?' # considering an example query"
   ]
  },
  {
   "cell_type": "code",
   "execution_count": 21,
   "metadata": {},
   "outputs": [],
   "source": [
    "# checking for stop words\n",
    "\n",
    "Q=[]\n",
    "a=Question.split()\n",
    "for i in a:\n",
    "    if i in stop:\n",
    "        continue\n",
    "    else:\n",
    "        Q.append(i)\n",
    "    b=\" \".join(Q) "
   ]
  },
  {
   "cell_type": "code",
   "execution_count": 22,
   "metadata": {},
   "outputs": [],
   "source": [
    "Question_lemma = text_normalization(b) # applying the function that we created for text normalizing\n",
    "Question_bow = cv.transform([Question_lemma]).toarray() # applying bow"
   ]
  },
  {
   "cell_type": "code",
   "execution_count": 23,
   "metadata": {},
   "outputs": [
    {
     "data": {
      "text/plain": [
       "<function __main__.text_normalization(text)>"
      ]
     },
     "execution_count": 23,
     "metadata": {},
     "output_type": "execute_result"
    }
   ],
   "source": [
    "text_normalization"
   ]
  },
  {
   "cell_type": "code",
   "execution_count": 24,
   "metadata": {},
   "outputs": [
    {
     "data": {
      "text/plain": [
       "array([[0, 0, 0, 0, 0, 0, 0, 0, 0, 0, 0, 0, 0, 0, 0, 0, 0, 0, 0, 0, 0, 0,\n",
       "        0, 0, 0, 0, 0, 0, 0, 0, 0, 0, 0, 0, 0, 0, 0, 0, 0, 0, 0, 0, 0, 0,\n",
       "        0, 0, 0, 0, 0, 0, 0, 0, 0, 0, 0, 0, 0, 0, 0, 0, 0, 0, 0, 0, 0, 0,\n",
       "        0, 0, 0, 0, 0, 0, 0, 0, 0, 0, 0, 0, 0, 0, 0, 0, 0, 0, 0, 0, 0, 0,\n",
       "        0, 0, 0, 0, 0, 0, 0, 0, 0, 0, 0, 0, 0, 0, 0, 0, 0, 0, 0, 0, 0, 0,\n",
       "        0, 0, 0, 0, 0, 0, 0, 0, 0, 0, 0, 0, 0, 0, 0, 0, 0, 0, 0, 0, 0, 0,\n",
       "        0, 0, 0, 0, 0, 0, 0, 1, 0, 0, 0, 0, 0, 0, 0, 0, 0, 0, 0, 0, 0, 0,\n",
       "        0, 0, 0, 0, 0, 0, 0, 0, 0, 0, 0, 0, 0, 0, 0, 0, 0, 0, 0, 0, 0, 0,\n",
       "        0, 0, 0, 0, 0, 0, 0, 0, 0, 0, 0, 0, 0, 0, 0, 0, 0, 0, 0, 0, 0, 0,\n",
       "        0, 0, 0, 0, 0, 0, 0, 0, 0, 0, 0, 0, 0, 0, 0, 0, 0, 0, 0, 0, 0, 0,\n",
       "        0, 0, 0, 0, 0, 0, 0, 0, 0, 0, 0, 0, 0, 0, 0, 0, 0, 0, 0, 0, 0, 0,\n",
       "        0, 0, 0, 0, 0, 0, 0, 0, 0, 0, 0, 0, 0, 0, 0, 0, 0, 0, 0, 0, 0, 1,\n",
       "        0, 0, 0, 0, 0, 0, 0, 0, 0, 0, 0, 0, 0, 0, 0, 0, 0, 0, 0, 0, 0, 0,\n",
       "        0, 0, 0, 0, 0, 0, 0, 0, 0, 0, 0, 0, 0, 0, 0, 0, 0, 0, 0, 0, 0, 0,\n",
       "        0, 0, 0, 0, 0, 0, 0, 0, 0, 0, 0, 0, 0, 0, 0, 0, 0, 0, 0, 0, 0, 0,\n",
       "        0, 0, 0, 0, 0, 0, 0, 0, 0, 0, 0, 0, 0, 0, 0, 0, 0, 0, 0, 0, 0, 0,\n",
       "        0, 0, 0, 0, 0, 0, 0, 0, 0, 0, 0, 0, 0, 0, 0, 0, 0, 0, 0, 0, 0, 0,\n",
       "        0, 0, 0, 0, 0, 0, 0, 0, 0, 0, 0, 0, 0, 0, 0, 0, 0, 0, 0, 0, 0, 0,\n",
       "        0, 0, 0, 0, 0, 0, 0, 0, 0, 0, 0, 0, 0, 0, 0, 0, 0, 0, 0, 0, 0, 0,\n",
       "        0, 0, 0, 0, 0, 0, 0, 0, 0, 0, 0, 0, 0, 0, 0, 0, 0, 0, 0, 0, 0, 0,\n",
       "        0, 0, 0, 0, 0, 0, 0, 0, 0, 0, 0, 0, 0, 0, 0, 0, 0, 0, 0, 0, 0, 0,\n",
       "        0, 0, 0, 0, 0, 0, 0, 0, 0, 0, 0, 0, 0, 0, 1, 0, 0, 0, 1, 0, 0, 0,\n",
       "        0, 0, 0, 0, 0, 0, 0, 0, 0, 0, 0, 0, 0, 0, 0, 0, 0, 0, 0, 0, 0, 0,\n",
       "        0, 0, 0, 0, 0, 0, 0, 0, 0, 0, 0, 0, 0, 0, 0, 0, 0, 0, 0, 0, 0, 0,\n",
       "        0, 0, 0, 0, 0, 0, 0, 0, 0, 1, 0, 0, 0, 0, 0, 0, 0, 0, 0, 0, 0, 0,\n",
       "        0, 0, 0, 0, 0, 0, 0, 0, 0]])"
      ]
     },
     "execution_count": 24,
     "metadata": {},
     "output_type": "execute_result"
    }
   ],
   "source": [
    "Question_bow"
   ]
  },
  {
   "cell_type": "markdown",
   "metadata": {},
   "source": [
    "余弦相似性:余弦相似性是衡量两个矢量相似性的一种指标。其计算方法是用两个矢量的点积除以两个矢量的模的乘积：Cosine Similarity (a, b) = Dot product(a, b) / ||a|| * ||b||, 计算代码如下："
   ]
  },
  {
   "cell_type": "code",
   "execution_count": 25,
   "metadata": {},
   "outputs": [
    {
     "data": {
      "text/plain": [
       "array([[0.29538623],\n",
       "       [0.388057  ],\n",
       "       [0.12659242],\n",
       "       [0.17626106],\n",
       "       [0.30705979],\n",
       "       [0.1490712 ],\n",
       "       [0.20675612],\n",
       "       [0.13151919],\n",
       "       [0.1860521 ],\n",
       "       [0.23972644],\n",
       "       [0.22627417],\n",
       "       [0.24902912],\n",
       "       [0.23809164],\n",
       "       [0.2262621 ],\n",
       "       [0.20223698],\n",
       "       [0.30292266],\n",
       "       [0.        ],\n",
       "       [0.24194335],\n",
       "       [0.22733714],\n",
       "       [0.19227214]])"
      ]
     },
     "execution_count": 25,
     "metadata": {},
     "output_type": "execute_result"
    }
   ],
   "source": [
    "# cosine similarity for the above question we considered.\n",
    "\n",
    "cosine_value = 1- pairwise_distances(df_bow, Question_bow, metric = 'cosine' )\n",
    "(cosine_value)"
   ]
  },
  {
   "cell_type": "code",
   "execution_count": 26,
   "metadata": {},
   "outputs": [],
   "source": [
    "df['similarity_bow']=cosine_value # creating a new column "
   ]
  },
  {
   "cell_type": "code",
   "execution_count": 27,
   "metadata": {},
   "outputs": [
    {
     "data": {
      "text/html": [
       "<div>\n",
       "<style scoped>\n",
       "    .dataframe tbody tr th:only-of-type {\n",
       "        vertical-align: middle;\n",
       "    }\n",
       "\n",
       "    .dataframe tbody tr th {\n",
       "        vertical-align: top;\n",
       "    }\n",
       "\n",
       "    .dataframe thead th {\n",
       "        text-align: right;\n",
       "    }\n",
       "</style>\n",
       "<table border=\"1\" class=\"dataframe\">\n",
       "  <thead>\n",
       "    <tr style=\"text-align: right;\">\n",
       "      <th></th>\n",
       "      <th>cut_sent</th>\n",
       "      <th>similarity_bow</th>\n",
       "    </tr>\n",
       "  </thead>\n",
       "  <tbody>\n",
       "    <tr>\n",
       "      <th>0</th>\n",
       "      <td>Logo   University   of   Leeds   Home   \\n Tau...</td>\n",
       "      <td>0.295386</td>\n",
       "    </tr>\n",
       "    <tr>\n",
       "      <th>1</th>\n",
       "      <td>Level   refers   to   the   level   of   a   m...</td>\n",
       "      <td>0.388057</td>\n",
       "    </tr>\n",
       "    <tr>\n",
       "      <th>2</th>\n",
       "      <td>Year   ( called   Class   in   the   Classific...</td>\n",
       "      <td>0.126592</td>\n",
       "    </tr>\n",
       "    <tr>\n",
       "      <th>3</th>\n",
       "      <td>Undergraduate   full   time   students   must ...</td>\n",
       "      <td>0.176261</td>\n",
       "    </tr>\n",
       "    <tr>\n",
       "      <th>4</th>\n",
       "      <td>Undergraduate   students   who   have   a   st...</td>\n",
       "      <td>0.307060</td>\n",
       "    </tr>\n",
       "    <tr>\n",
       "      <th>5</th>\n",
       "      <td>When   registering   with   the   University ,...</td>\n",
       "      <td>0.149071</td>\n",
       "    </tr>\n",
       "    <tr>\n",
       "      <th>6</th>\n",
       "      <td>If ,   after   the   start   of   any   semest...</td>\n",
       "      <td>0.206756</td>\n",
       "    </tr>\n",
       "    <tr>\n",
       "      <th>7</th>\n",
       "      <td>Where   a   student   transfers   in   credits...</td>\n",
       "      <td>0.131519</td>\n",
       "    </tr>\n",
       "    <tr>\n",
       "      <th>8</th>\n",
       "      <td>There   are   usually   three   University   a...</td>\n",
       "      <td>0.186052</td>\n",
       "    </tr>\n",
       "    <tr>\n",
       "      <th>9</th>\n",
       "      <td>If   a   student   does   not   pass   enough ...</td>\n",
       "      <td>0.239726</td>\n",
       "    </tr>\n",
       "    <tr>\n",
       "      <th>10</th>\n",
       "      <td>Any   re - sit   has   to   be   taken   at   ...</td>\n",
       "      <td>0.226274</td>\n",
       "    </tr>\n",
       "    <tr>\n",
       "      <th>11</th>\n",
       "      <td>All   undergraduate   students   are   entitle...</td>\n",
       "      <td>0.249029</td>\n",
       "    </tr>\n",
       "    <tr>\n",
       "      <th>12</th>\n",
       "      <td>The   student   must   submit   their   re - s...</td>\n",
       "      <td>0.238092</td>\n",
       "    </tr>\n",
       "    <tr>\n",
       "      <th>13</th>\n",
       "      <td>Re - sit   assessment   dates \\n Re - sit   as...</td>\n",
       "      <td>0.226262</td>\n",
       "    </tr>\n",
       "    <tr>\n",
       "      <th>14</th>\n",
       "      <td>If   the   exam   is   a   “ first   attempt ”...</td>\n",
       "      <td>0.202237</td>\n",
       "    </tr>\n",
       "    <tr>\n",
       "      <th>15</th>\n",
       "      <td>Students   may   be   eligible   to   sit   th...</td>\n",
       "      <td>0.302923</td>\n",
       "    </tr>\n",
       "    <tr>\n",
       "      <th>16</th>\n",
       "      <td>OTHER   QUESTIONS \\n HOW   CAN   STUDENTS   AC...</td>\n",
       "      <td>0.000000</td>\n",
       "    </tr>\n",
       "    <tr>\n",
       "      <th>17</th>\n",
       "      <td>Students   use   the   Minerva   to   access  ...</td>\n",
       "      <td>0.241943</td>\n",
       "    </tr>\n",
       "    <tr>\n",
       "      <th>18</th>\n",
       "      <td>Supernumerary   modules   are   modules   chos...</td>\n",
       "      <td>0.227337</td>\n",
       "    </tr>\n",
       "    <tr>\n",
       "      <th>19</th>\n",
       "      <td>In   exceptional   circumstances   it   may   ...</td>\n",
       "      <td>0.192272</td>\n",
       "    </tr>\n",
       "  </tbody>\n",
       "</table>\n",
       "</div>"
      ],
      "text/plain": [
       "                                             cut_sent  similarity_bow\n",
       "0   Logo   University   of   Leeds   Home   \\n Tau...        0.295386\n",
       "1   Level   refers   to   the   level   of   a   m...        0.388057\n",
       "2   Year   ( called   Class   in   the   Classific...        0.126592\n",
       "3   Undergraduate   full   time   students   must ...        0.176261\n",
       "4   Undergraduate   students   who   have   a   st...        0.307060\n",
       "5   When   registering   with   the   University ,...        0.149071\n",
       "6   If ,   after   the   start   of   any   semest...        0.206756\n",
       "7   Where   a   student   transfers   in   credits...        0.131519\n",
       "8   There   are   usually   three   University   a...        0.186052\n",
       "9   If   a   student   does   not   pass   enough ...        0.239726\n",
       "10  Any   re - sit   has   to   be   taken   at   ...        0.226274\n",
       "11  All   undergraduate   students   are   entitle...        0.249029\n",
       "12  The   student   must   submit   their   re - s...        0.238092\n",
       "13  Re - sit   assessment   dates \\n Re - sit   as...        0.226262\n",
       "14  If   the   exam   is   a   “ first   attempt ”...        0.202237\n",
       "15  Students   may   be   eligible   to   sit   th...        0.302923\n",
       "16  OTHER   QUESTIONS \\n HOW   CAN   STUDENTS   AC...        0.000000\n",
       "17  Students   use   the   Minerva   to   access  ...        0.241943\n",
       "18  Supernumerary   modules   are   modules   chos...        0.227337\n",
       "19  In   exceptional   circumstances   it   may   ...        0.192272"
      ]
     },
     "execution_count": 27,
     "metadata": {},
     "output_type": "execute_result"
    }
   ],
   "source": [
    "df_simi = pd.DataFrame(df, columns=['cut_sent','similarity_bow']) # taking similarity value of responses for the question we took\n",
    "df_simi"
   ]
  },
  {
   "cell_type": "code",
   "execution_count": 28,
   "metadata": {},
   "outputs": [
    {
     "data": {
      "text/html": [
       "<div>\n",
       "<style scoped>\n",
       "    .dataframe tbody tr th:only-of-type {\n",
       "        vertical-align: middle;\n",
       "    }\n",
       "\n",
       "    .dataframe tbody tr th {\n",
       "        vertical-align: top;\n",
       "    }\n",
       "\n",
       "    .dataframe thead th {\n",
       "        text-align: right;\n",
       "    }\n",
       "</style>\n",
       "<table border=\"1\" class=\"dataframe\">\n",
       "  <thead>\n",
       "    <tr style=\"text-align: right;\">\n",
       "      <th></th>\n",
       "      <th>cut_sent</th>\n",
       "      <th>similarity_bow</th>\n",
       "    </tr>\n",
       "  </thead>\n",
       "  <tbody>\n",
       "    <tr>\n",
       "      <th>1</th>\n",
       "      <td>Level   refers   to   the   level   of   a   m...</td>\n",
       "      <td>0.388057</td>\n",
       "    </tr>\n",
       "    <tr>\n",
       "      <th>4</th>\n",
       "      <td>Undergraduate   students   who   have   a   st...</td>\n",
       "      <td>0.307060</td>\n",
       "    </tr>\n",
       "    <tr>\n",
       "      <th>15</th>\n",
       "      <td>Students   may   be   eligible   to   sit   th...</td>\n",
       "      <td>0.302923</td>\n",
       "    </tr>\n",
       "    <tr>\n",
       "      <th>0</th>\n",
       "      <td>Logo   University   of   Leeds   Home   \\n Tau...</td>\n",
       "      <td>0.295386</td>\n",
       "    </tr>\n",
       "    <tr>\n",
       "      <th>11</th>\n",
       "      <td>All   undergraduate   students   are   entitle...</td>\n",
       "      <td>0.249029</td>\n",
       "    </tr>\n",
       "  </tbody>\n",
       "</table>\n",
       "</div>"
      ],
      "text/plain": [
       "                                             cut_sent  similarity_bow\n",
       "1   Level   refers   to   the   level   of   a   m...        0.388057\n",
       "4   Undergraduate   students   who   have   a   st...        0.307060\n",
       "15  Students   may   be   eligible   to   sit   th...        0.302923\n",
       "0   Logo   University   of   Leeds   Home   \\n Tau...        0.295386\n",
       "11  All   undergraduate   students   are   entitle...        0.249029"
      ]
     },
     "execution_count": 28,
     "metadata": {},
     "output_type": "execute_result"
    }
   ],
   "source": [
    "df_simi_sort = df_simi.sort_values(by='similarity_bow', ascending=False) # sorting the values\n",
    "df_simi_sort.head()"
   ]
  },
  {
   "cell_type": "code",
   "execution_count": 29,
   "metadata": {},
   "outputs": [
    {
     "data": {
      "text/html": [
       "<div>\n",
       "<style scoped>\n",
       "    .dataframe tbody tr th:only-of-type {\n",
       "        vertical-align: middle;\n",
       "    }\n",
       "\n",
       "    .dataframe tbody tr th {\n",
       "        vertical-align: top;\n",
       "    }\n",
       "\n",
       "    .dataframe thead th {\n",
       "        text-align: right;\n",
       "    }\n",
       "</style>\n",
       "<table border=\"1\" class=\"dataframe\">\n",
       "  <thead>\n",
       "    <tr style=\"text-align: right;\">\n",
       "      <th></th>\n",
       "      <th>cut_sent</th>\n",
       "      <th>similarity_bow</th>\n",
       "    </tr>\n",
       "  </thead>\n",
       "  <tbody>\n",
       "    <tr>\n",
       "      <th>1</th>\n",
       "      <td>Level   refers   to   the   level   of   a   m...</td>\n",
       "      <td>0.388057</td>\n",
       "    </tr>\n",
       "    <tr>\n",
       "      <th>4</th>\n",
       "      <td>Undergraduate   students   who   have   a   st...</td>\n",
       "      <td>0.307060</td>\n",
       "    </tr>\n",
       "    <tr>\n",
       "      <th>15</th>\n",
       "      <td>Students   may   be   eligible   to   sit   th...</td>\n",
       "      <td>0.302923</td>\n",
       "    </tr>\n",
       "    <tr>\n",
       "      <th>0</th>\n",
       "      <td>Logo   University   of   Leeds   Home   \\n Tau...</td>\n",
       "      <td>0.295386</td>\n",
       "    </tr>\n",
       "    <tr>\n",
       "      <th>11</th>\n",
       "      <td>All   undergraduate   students   are   entitle...</td>\n",
       "      <td>0.249029</td>\n",
       "    </tr>\n",
       "    <tr>\n",
       "      <th>17</th>\n",
       "      <td>Students   use   the   Minerva   to   access  ...</td>\n",
       "      <td>0.241943</td>\n",
       "    </tr>\n",
       "    <tr>\n",
       "      <th>9</th>\n",
       "      <td>If   a   student   does   not   pass   enough ...</td>\n",
       "      <td>0.239726</td>\n",
       "    </tr>\n",
       "    <tr>\n",
       "      <th>12</th>\n",
       "      <td>The   student   must   submit   their   re - s...</td>\n",
       "      <td>0.238092</td>\n",
       "    </tr>\n",
       "    <tr>\n",
       "      <th>18</th>\n",
       "      <td>Supernumerary   modules   are   modules   chos...</td>\n",
       "      <td>0.227337</td>\n",
       "    </tr>\n",
       "    <tr>\n",
       "      <th>10</th>\n",
       "      <td>Any   re - sit   has   to   be   taken   at   ...</td>\n",
       "      <td>0.226274</td>\n",
       "    </tr>\n",
       "    <tr>\n",
       "      <th>13</th>\n",
       "      <td>Re - sit   assessment   dates \\n Re - sit   as...</td>\n",
       "      <td>0.226262</td>\n",
       "    </tr>\n",
       "    <tr>\n",
       "      <th>6</th>\n",
       "      <td>If ,   after   the   start   of   any   semest...</td>\n",
       "      <td>0.206756</td>\n",
       "    </tr>\n",
       "    <tr>\n",
       "      <th>14</th>\n",
       "      <td>If   the   exam   is   a   “ first   attempt ”...</td>\n",
       "      <td>0.202237</td>\n",
       "    </tr>\n",
       "  </tbody>\n",
       "</table>\n",
       "</div>"
      ],
      "text/plain": [
       "                                             cut_sent  similarity_bow\n",
       "1   Level   refers   to   the   level   of   a   m...        0.388057\n",
       "4   Undergraduate   students   who   have   a   st...        0.307060\n",
       "15  Students   may   be   eligible   to   sit   th...        0.302923\n",
       "0   Logo   University   of   Leeds   Home   \\n Tau...        0.295386\n",
       "11  All   undergraduate   students   are   entitle...        0.249029\n",
       "17  Students   use   the   Minerva   to   access  ...        0.241943\n",
       "9   If   a   student   does   not   pass   enough ...        0.239726\n",
       "12  The   student   must   submit   their   re - s...        0.238092\n",
       "18  Supernumerary   modules   are   modules   chos...        0.227337\n",
       "10  Any   re - sit   has   to   be   taken   at   ...        0.226274\n",
       "13  Re - sit   assessment   dates \\n Re - sit   as...        0.226262\n",
       "6   If ,   after   the   start   of   any   semest...        0.206756\n",
       "14  If   the   exam   is   a   “ first   attempt ”...        0.202237"
      ]
     },
     "execution_count": 29,
     "metadata": {},
     "output_type": "execute_result"
    }
   ],
   "source": [
    "threshold = 0.2 # considering the value of p=smiliarity to be greater than 0.2\n",
    "df_threshold = df_simi_sort[df_simi_sort['similarity_bow'] > threshold] \n",
    "df_threshold"
   ]
  },
  {
   "cell_type": "code",
   "execution_count": 30,
   "metadata": {},
   "outputs": [
    {
     "data": {
      "text/plain": [
       "1"
      ]
     },
     "execution_count": 30,
     "metadata": {},
     "output_type": "execute_result"
    }
   ],
   "source": [
    "index_value = cosine_value.argmax() # returns the index number of highest value\n",
    "index_value "
   ]
  },
  {
   "cell_type": "markdown",
   "metadata": {},
   "source": [
    "让我们输出其查询文本看看是否相关："
   ]
  },
  {
   "cell_type": "code",
   "execution_count": 31,
   "metadata": {},
   "outputs": [
    {
     "data": {
      "text/plain": [
       "'WHAT DOES THE TERM “LEVEL”?'"
      ]
     },
     "execution_count": 31,
     "metadata": {},
     "output_type": "execute_result"
    }
   ],
   "source": [
    "(Question)"
   ]
  },
  {
   "cell_type": "code",
   "execution_count": 32,
   "metadata": {},
   "outputs": [
    {
     "data": {
      "text/plain": [
       "'Level   refers   to   the   level   of   a   module   and   its   credits . \\n For   example : \\n CHEM1002   -   a   level   1   module   with   a   credit   value   of   20       i . e .   20   level - 1   credits \\n BIOC2667   -   a   level   2   module   with   a   credit   value   of   10 \\n CIVE3772   -   a   level   3   module   with   a   credit   value   of   40     i . e .   40   level - 3   credits \\n LUBS5778M   -   a   level   M   module   with   a   credit   value   of   30 \\n FLTU1559   -   a   level   1   module   with   a   credit   value   of   10   which   can   be   taken   in   any   year   of   study   that   the   programme   specification   allows . \\n This   is   also   explained   in   the   Rules   for   Award . \\n \\n WHAT   DOES   THE   TERM   “ YEAR ”   MEAN ?'"
      ]
     },
     "execution_count": 32,
     "metadata": {},
     "output_type": "execute_result"
    }
   ],
   "source": [
    "# sent_tokens = text.replace(u'\\xa0', ' ')\n",
    "df['cut_sent'].loc[index_value].replace(u'\\xa0', ' ') # The text at the above index becomes the response for the question"
   ]
  },
  {
   "cell_type": "markdown",
   "metadata": {},
   "source": [
    "TF-IDF模型:tf指的是词频，表示单词在当前文档中出现的频率，idf指的是逆文档频率，表示单词在文档集中出现的频率倒数。这里我们说的文档表示一个样本，文档集表示所有的样本。"
   ]
  },
  {
   "cell_type": "code",
   "execution_count": null,
   "metadata": {},
   "outputs": [],
   "source": []
  },
  {
   "cell_type": "code",
   "execution_count": 33,
   "metadata": {},
   "outputs": [],
   "source": [
    "Question1 ='WHAT DOES THE TERM “YEAR” MEAN?'\n",
    "Question2 ='HOW MUCH ARE THE RE-SIT FEES?'"
   ]
  },
  {
   "cell_type": "code",
   "execution_count": 34,
   "metadata": {},
   "outputs": [],
   "source": [
    "# using tf-idf\n",
    "\n",
    "tfidf=TfidfVectorizer() # intializing tf-id \n",
    "x_tfidf=tfidf.fit_transform(df['lemmatized_text']).toarray() # transforming the data into array"
   ]
  },
  {
   "cell_type": "code",
   "execution_count": 35,
   "metadata": {},
   "outputs": [],
   "source": [
    "Question_lemma1 = text_normalization(Question1)\n",
    "Question_tfidf = tfidf.transform([Question_lemma1]).toarray() # applying tf-idf\n"
   ]
  },
  {
   "cell_type": "code",
   "execution_count": null,
   "metadata": {},
   "outputs": [],
   "source": []
  },
  {
   "cell_type": "code",
   "execution_count": 36,
   "metadata": {},
   "outputs": [
    {
     "data": {
      "text/html": [
       "<div>\n",
       "<style scoped>\n",
       "    .dataframe tbody tr th:only-of-type {\n",
       "        vertical-align: middle;\n",
       "    }\n",
       "\n",
       "    .dataframe tbody tr th {\n",
       "        vertical-align: top;\n",
       "    }\n",
       "\n",
       "    .dataframe thead th {\n",
       "        text-align: right;\n",
       "    }\n",
       "</style>\n",
       "<table border=\"1\" class=\"dataframe\">\n",
       "  <thead>\n",
       "    <tr style=\"text-align: right;\">\n",
       "      <th></th>\n",
       "      <th>able</th>\n",
       "      <th>about</th>\n",
       "      <th>above</th>\n",
       "      <th>abroad</th>\n",
       "      <th>absent</th>\n",
       "      <th>ac</th>\n",
       "      <th>academic</th>\n",
       "      <th>accept</th>\n",
       "      <th>access</th>\n",
       "      <th>accessible</th>\n",
       "      <th>...</th>\n",
       "      <th>with</th>\n",
       "      <th>withdraw</th>\n",
       "      <th>within</th>\n",
       "      <th>without</th>\n",
       "      <th>work</th>\n",
       "      <th>www</th>\n",
       "      <th>year</th>\n",
       "      <th>yes</th>\n",
       "      <th>you</th>\n",
       "      <th>your</th>\n",
       "    </tr>\n",
       "  </thead>\n",
       "  <tbody>\n",
       "    <tr>\n",
       "      <th>0</th>\n",
       "      <td>0.0</td>\n",
       "      <td>0.066866</td>\n",
       "      <td>0.0</td>\n",
       "      <td>0.0</td>\n",
       "      <td>0.000000</td>\n",
       "      <td>0.066866</td>\n",
       "      <td>0.041930</td>\n",
       "      <td>0.0</td>\n",
       "      <td>0.0</td>\n",
       "      <td>0.038035</td>\n",
       "      <td>...</td>\n",
       "      <td>0.039539</td>\n",
       "      <td>0.0</td>\n",
       "      <td>0.0</td>\n",
       "      <td>0.0</td>\n",
       "      <td>0.0</td>\n",
       "      <td>0.0</td>\n",
       "      <td>0.018688</td>\n",
       "      <td>0.0</td>\n",
       "      <td>0.1003</td>\n",
       "      <td>0.133733</td>\n",
       "    </tr>\n",
       "    <tr>\n",
       "      <th>1</th>\n",
       "      <td>0.0</td>\n",
       "      <td>0.000000</td>\n",
       "      <td>0.0</td>\n",
       "      <td>0.0</td>\n",
       "      <td>0.000000</td>\n",
       "      <td>0.000000</td>\n",
       "      <td>0.000000</td>\n",
       "      <td>0.0</td>\n",
       "      <td>0.0</td>\n",
       "      <td>0.000000</td>\n",
       "      <td>...</td>\n",
       "      <td>0.230289</td>\n",
       "      <td>0.0</td>\n",
       "      <td>0.0</td>\n",
       "      <td>0.0</td>\n",
       "      <td>0.0</td>\n",
       "      <td>0.0</td>\n",
       "      <td>0.087075</td>\n",
       "      <td>0.0</td>\n",
       "      <td>0.0000</td>\n",
       "      <td>0.000000</td>\n",
       "    </tr>\n",
       "    <tr>\n",
       "      <th>2</th>\n",
       "      <td>0.0</td>\n",
       "      <td>0.000000</td>\n",
       "      <td>0.0</td>\n",
       "      <td>0.0</td>\n",
       "      <td>0.000000</td>\n",
       "      <td>0.000000</td>\n",
       "      <td>0.064181</td>\n",
       "      <td>0.0</td>\n",
       "      <td>0.0</td>\n",
       "      <td>0.000000</td>\n",
       "      <td>...</td>\n",
       "      <td>0.000000</td>\n",
       "      <td>0.0</td>\n",
       "      <td>0.0</td>\n",
       "      <td>0.0</td>\n",
       "      <td>0.0</td>\n",
       "      <td>0.0</td>\n",
       "      <td>0.457674</td>\n",
       "      <td>0.0</td>\n",
       "      <td>0.0000</td>\n",
       "      <td>0.000000</td>\n",
       "    </tr>\n",
       "    <tr>\n",
       "      <th>3</th>\n",
       "      <td>0.0</td>\n",
       "      <td>0.000000</td>\n",
       "      <td>0.0</td>\n",
       "      <td>0.0</td>\n",
       "      <td>0.000000</td>\n",
       "      <td>0.000000</td>\n",
       "      <td>0.000000</td>\n",
       "      <td>0.0</td>\n",
       "      <td>0.0</td>\n",
       "      <td>0.000000</td>\n",
       "      <td>...</td>\n",
       "      <td>0.000000</td>\n",
       "      <td>0.0</td>\n",
       "      <td>0.0</td>\n",
       "      <td>0.0</td>\n",
       "      <td>0.0</td>\n",
       "      <td>0.0</td>\n",
       "      <td>0.092489</td>\n",
       "      <td>0.0</td>\n",
       "      <td>0.0000</td>\n",
       "      <td>0.000000</td>\n",
       "    </tr>\n",
       "    <tr>\n",
       "      <th>4</th>\n",
       "      <td>0.0</td>\n",
       "      <td>0.000000</td>\n",
       "      <td>0.0</td>\n",
       "      <td>0.0</td>\n",
       "      <td>0.034163</td>\n",
       "      <td>0.000000</td>\n",
       "      <td>0.071224</td>\n",
       "      <td>0.0</td>\n",
       "      <td>0.0</td>\n",
       "      <td>0.000000</td>\n",
       "      <td>...</td>\n",
       "      <td>0.000000</td>\n",
       "      <td>0.0</td>\n",
       "      <td>0.0</td>\n",
       "      <td>0.0</td>\n",
       "      <td>0.0</td>\n",
       "      <td>0.0</td>\n",
       "      <td>0.063487</td>\n",
       "      <td>0.0</td>\n",
       "      <td>0.0000</td>\n",
       "      <td>0.000000</td>\n",
       "    </tr>\n",
       "  </tbody>\n",
       "</table>\n",
       "<p>5 rows × 559 columns</p>\n",
       "</div>"
      ],
      "text/plain": [
       "   able     about  above  abroad    absent        ac  academic  accept  \\\n",
       "0   0.0  0.066866    0.0     0.0  0.000000  0.066866  0.041930     0.0   \n",
       "1   0.0  0.000000    0.0     0.0  0.000000  0.000000  0.000000     0.0   \n",
       "2   0.0  0.000000    0.0     0.0  0.000000  0.000000  0.064181     0.0   \n",
       "3   0.0  0.000000    0.0     0.0  0.000000  0.000000  0.000000     0.0   \n",
       "4   0.0  0.000000    0.0     0.0  0.034163  0.000000  0.071224     0.0   \n",
       "\n",
       "   access  accessible  ...      with  withdraw  within  without  work  www  \\\n",
       "0     0.0    0.038035  ...  0.039539       0.0     0.0      0.0   0.0  0.0   \n",
       "1     0.0    0.000000  ...  0.230289       0.0     0.0      0.0   0.0  0.0   \n",
       "2     0.0    0.000000  ...  0.000000       0.0     0.0      0.0   0.0  0.0   \n",
       "3     0.0    0.000000  ...  0.000000       0.0     0.0      0.0   0.0  0.0   \n",
       "4     0.0    0.000000  ...  0.000000       0.0     0.0      0.0   0.0  0.0   \n",
       "\n",
       "       year  yes     you      your  \n",
       "0  0.018688  0.0  0.1003  0.133733  \n",
       "1  0.087075  0.0  0.0000  0.000000  \n",
       "2  0.457674  0.0  0.0000  0.000000  \n",
       "3  0.092489  0.0  0.0000  0.000000  \n",
       "4  0.063487  0.0  0.0000  0.000000  \n",
       "\n",
       "[5 rows x 559 columns]"
      ]
     },
     "execution_count": 36,
     "metadata": {},
     "output_type": "execute_result"
    }
   ],
   "source": [
    "# returns all the unique word from data with a score of that word\n",
    "\n",
    "df_tfidf=pd.DataFrame(x_tfidf,columns=tfidf.get_feature_names()) \n",
    "df_tfidf.head()\n"
   ]
  },
  {
   "cell_type": "code",
   "execution_count": null,
   "metadata": {},
   "outputs": [],
   "source": []
  },
  {
   "cell_type": "code",
   "execution_count": 37,
   "metadata": {},
   "outputs": [
    {
     "data": {
      "text/plain": [
       "array([[0.14688982],\n",
       "       [0.15682044],\n",
       "       [0.20387195],\n",
       "       [0.08118346],\n",
       "       [0.14537092],\n",
       "       [0.05269408],\n",
       "       [0.07315791],\n",
       "       [0.05190082],\n",
       "       [0.09042639],\n",
       "       [0.12971193],\n",
       "       [0.1152888 ],\n",
       "       [0.15212475],\n",
       "       [0.08628485],\n",
       "       [0.07776947],\n",
       "       [0.07917328],\n",
       "       [0.11460062],\n",
       "       [0.        ],\n",
       "       [0.10414171],\n",
       "       [0.17504604],\n",
       "       [0.06864426]])"
      ]
     },
     "execution_count": 37,
     "metadata": {},
     "output_type": "execute_result"
    }
   ],
   "source": [
    "cos=1-pairwise_distances(df_tfidf,Question_tfidf,metric='cosine')  # applying cosine similarity\n",
    "cos"
   ]
  },
  {
   "cell_type": "code",
   "execution_count": 38,
   "metadata": {},
   "outputs": [
    {
     "data": {
      "text/html": [
       "<div>\n",
       "<style scoped>\n",
       "    .dataframe tbody tr th:only-of-type {\n",
       "        vertical-align: middle;\n",
       "    }\n",
       "\n",
       "    .dataframe tbody tr th {\n",
       "        vertical-align: top;\n",
       "    }\n",
       "\n",
       "    .dataframe thead th {\n",
       "        text-align: right;\n",
       "    }\n",
       "</style>\n",
       "<table border=\"1\" class=\"dataframe\">\n",
       "  <thead>\n",
       "    <tr style=\"text-align: right;\">\n",
       "      <th></th>\n",
       "      <th>cut_sent</th>\n",
       "      <th>similarity_tfidf</th>\n",
       "    </tr>\n",
       "  </thead>\n",
       "  <tbody>\n",
       "    <tr>\n",
       "      <th>0</th>\n",
       "      <td>Logo   University   of   Leeds   Home   \\n Tau...</td>\n",
       "      <td>0.146890</td>\n",
       "    </tr>\n",
       "    <tr>\n",
       "      <th>1</th>\n",
       "      <td>Level   refers   to   the   level   of   a   m...</td>\n",
       "      <td>0.156820</td>\n",
       "    </tr>\n",
       "    <tr>\n",
       "      <th>2</th>\n",
       "      <td>Year   ( called   Class   in   the   Classific...</td>\n",
       "      <td>0.203872</td>\n",
       "    </tr>\n",
       "    <tr>\n",
       "      <th>3</th>\n",
       "      <td>Undergraduate   full   time   students   must ...</td>\n",
       "      <td>0.081183</td>\n",
       "    </tr>\n",
       "    <tr>\n",
       "      <th>4</th>\n",
       "      <td>Undergraduate   students   who   have   a   st...</td>\n",
       "      <td>0.145371</td>\n",
       "    </tr>\n",
       "    <tr>\n",
       "      <th>5</th>\n",
       "      <td>When   registering   with   the   University ,...</td>\n",
       "      <td>0.052694</td>\n",
       "    </tr>\n",
       "    <tr>\n",
       "      <th>6</th>\n",
       "      <td>If ,   after   the   start   of   any   semest...</td>\n",
       "      <td>0.073158</td>\n",
       "    </tr>\n",
       "    <tr>\n",
       "      <th>7</th>\n",
       "      <td>Where   a   student   transfers   in   credits...</td>\n",
       "      <td>0.051901</td>\n",
       "    </tr>\n",
       "    <tr>\n",
       "      <th>8</th>\n",
       "      <td>There   are   usually   three   University   a...</td>\n",
       "      <td>0.090426</td>\n",
       "    </tr>\n",
       "    <tr>\n",
       "      <th>9</th>\n",
       "      <td>If   a   student   does   not   pass   enough ...</td>\n",
       "      <td>0.129712</td>\n",
       "    </tr>\n",
       "    <tr>\n",
       "      <th>10</th>\n",
       "      <td>Any   re - sit   has   to   be   taken   at   ...</td>\n",
       "      <td>0.115289</td>\n",
       "    </tr>\n",
       "    <tr>\n",
       "      <th>11</th>\n",
       "      <td>All   undergraduate   students   are   entitle...</td>\n",
       "      <td>0.152125</td>\n",
       "    </tr>\n",
       "    <tr>\n",
       "      <th>12</th>\n",
       "      <td>The   student   must   submit   their   re - s...</td>\n",
       "      <td>0.086285</td>\n",
       "    </tr>\n",
       "    <tr>\n",
       "      <th>13</th>\n",
       "      <td>Re - sit   assessment   dates \\n Re - sit   as...</td>\n",
       "      <td>0.077769</td>\n",
       "    </tr>\n",
       "    <tr>\n",
       "      <th>14</th>\n",
       "      <td>If   the   exam   is   a   “ first   attempt ”...</td>\n",
       "      <td>0.079173</td>\n",
       "    </tr>\n",
       "    <tr>\n",
       "      <th>15</th>\n",
       "      <td>Students   may   be   eligible   to   sit   th...</td>\n",
       "      <td>0.114601</td>\n",
       "    </tr>\n",
       "    <tr>\n",
       "      <th>16</th>\n",
       "      <td>OTHER   QUESTIONS \\n HOW   CAN   STUDENTS   AC...</td>\n",
       "      <td>0.000000</td>\n",
       "    </tr>\n",
       "    <tr>\n",
       "      <th>17</th>\n",
       "      <td>Students   use   the   Minerva   to   access  ...</td>\n",
       "      <td>0.104142</td>\n",
       "    </tr>\n",
       "    <tr>\n",
       "      <th>18</th>\n",
       "      <td>Supernumerary   modules   are   modules   chos...</td>\n",
       "      <td>0.175046</td>\n",
       "    </tr>\n",
       "    <tr>\n",
       "      <th>19</th>\n",
       "      <td>In   exceptional   circumstances   it   may   ...</td>\n",
       "      <td>0.068644</td>\n",
       "    </tr>\n",
       "  </tbody>\n",
       "</table>\n",
       "</div>"
      ],
      "text/plain": [
       "                                             cut_sent  similarity_tfidf\n",
       "0   Logo   University   of   Leeds   Home   \\n Tau...          0.146890\n",
       "1   Level   refers   to   the   level   of   a   m...          0.156820\n",
       "2   Year   ( called   Class   in   the   Classific...          0.203872\n",
       "3   Undergraduate   full   time   students   must ...          0.081183\n",
       "4   Undergraduate   students   who   have   a   st...          0.145371\n",
       "5   When   registering   with   the   University ,...          0.052694\n",
       "6   If ,   after   the   start   of   any   semest...          0.073158\n",
       "7   Where   a   student   transfers   in   credits...          0.051901\n",
       "8   There   are   usually   three   University   a...          0.090426\n",
       "9   If   a   student   does   not   pass   enough ...          0.129712\n",
       "10  Any   re - sit   has   to   be   taken   at   ...          0.115289\n",
       "11  All   undergraduate   students   are   entitle...          0.152125\n",
       "12  The   student   must   submit   their   re - s...          0.086285\n",
       "13  Re - sit   assessment   dates \\n Re - sit   as...          0.077769\n",
       "14  If   the   exam   is   a   “ first   attempt ”...          0.079173\n",
       "15  Students   may   be   eligible   to   sit   th...          0.114601\n",
       "16  OTHER   QUESTIONS \\n HOW   CAN   STUDENTS   AC...          0.000000\n",
       "17  Students   use   the   Minerva   to   access  ...          0.104142\n",
       "18  Supernumerary   modules   are   modules   chos...          0.175046\n",
       "19  In   exceptional   circumstances   it   may   ...          0.068644"
      ]
     },
     "execution_count": 38,
     "metadata": {},
     "output_type": "execute_result"
    }
   ],
   "source": [
    "df['similarity_tfidf']=cos # creating a new column \n",
    "df_simi_tfidf = pd.DataFrame(df, columns=['cut_sent','similarity_tfidf']) # taking similarity value of responses for the question we took\n",
    "df_simi_tfidf \n"
   ]
  },
  {
   "cell_type": "code",
   "execution_count": 39,
   "metadata": {},
   "outputs": [
    {
     "data": {
      "text/html": [
       "<div>\n",
       "<style scoped>\n",
       "    .dataframe tbody tr th:only-of-type {\n",
       "        vertical-align: middle;\n",
       "    }\n",
       "\n",
       "    .dataframe tbody tr th {\n",
       "        vertical-align: top;\n",
       "    }\n",
       "\n",
       "    .dataframe thead th {\n",
       "        text-align: right;\n",
       "    }\n",
       "</style>\n",
       "<table border=\"1\" class=\"dataframe\">\n",
       "  <thead>\n",
       "    <tr style=\"text-align: right;\">\n",
       "      <th></th>\n",
       "      <th>cut_sent</th>\n",
       "      <th>similarity_tfidf</th>\n",
       "    </tr>\n",
       "  </thead>\n",
       "  <tbody>\n",
       "    <tr>\n",
       "      <th>2</th>\n",
       "      <td>Year   ( called   Class   in   the   Classific...</td>\n",
       "      <td>0.203872</td>\n",
       "    </tr>\n",
       "    <tr>\n",
       "      <th>18</th>\n",
       "      <td>Supernumerary   modules   are   modules   chos...</td>\n",
       "      <td>0.175046</td>\n",
       "    </tr>\n",
       "    <tr>\n",
       "      <th>1</th>\n",
       "      <td>Level   refers   to   the   level   of   a   m...</td>\n",
       "      <td>0.156820</td>\n",
       "    </tr>\n",
       "    <tr>\n",
       "      <th>11</th>\n",
       "      <td>All   undergraduate   students   are   entitle...</td>\n",
       "      <td>0.152125</td>\n",
       "    </tr>\n",
       "    <tr>\n",
       "      <th>0</th>\n",
       "      <td>Logo   University   of   Leeds   Home   \\n Tau...</td>\n",
       "      <td>0.146890</td>\n",
       "    </tr>\n",
       "    <tr>\n",
       "      <th>4</th>\n",
       "      <td>Undergraduate   students   who   have   a   st...</td>\n",
       "      <td>0.145371</td>\n",
       "    </tr>\n",
       "    <tr>\n",
       "      <th>9</th>\n",
       "      <td>If   a   student   does   not   pass   enough ...</td>\n",
       "      <td>0.129712</td>\n",
       "    </tr>\n",
       "    <tr>\n",
       "      <th>10</th>\n",
       "      <td>Any   re - sit   has   to   be   taken   at   ...</td>\n",
       "      <td>0.115289</td>\n",
       "    </tr>\n",
       "    <tr>\n",
       "      <th>15</th>\n",
       "      <td>Students   may   be   eligible   to   sit   th...</td>\n",
       "      <td>0.114601</td>\n",
       "    </tr>\n",
       "    <tr>\n",
       "      <th>17</th>\n",
       "      <td>Students   use   the   Minerva   to   access  ...</td>\n",
       "      <td>0.104142</td>\n",
       "    </tr>\n",
       "  </tbody>\n",
       "</table>\n",
       "</div>"
      ],
      "text/plain": [
       "                                             cut_sent  similarity_tfidf\n",
       "2   Year   ( called   Class   in   the   Classific...          0.203872\n",
       "18  Supernumerary   modules   are   modules   chos...          0.175046\n",
       "1   Level   refers   to   the   level   of   a   m...          0.156820\n",
       "11  All   undergraduate   students   are   entitle...          0.152125\n",
       "0   Logo   University   of   Leeds   Home   \\n Tau...          0.146890\n",
       "4   Undergraduate   students   who   have   a   st...          0.145371\n",
       "9   If   a   student   does   not   pass   enough ...          0.129712\n",
       "10  Any   re - sit   has   to   be   taken   at   ...          0.115289\n",
       "15  Students   may   be   eligible   to   sit   th...          0.114601\n",
       "17  Students   use   the   Minerva   to   access  ...          0.104142"
      ]
     },
     "execution_count": 39,
     "metadata": {},
     "output_type": "execute_result"
    }
   ],
   "source": [
    "df_simi_tfidf_sort = df_simi_tfidf.sort_values(by='similarity_tfidf', ascending=False) # sorting the values\n",
    "df_simi_tfidf_sort.head(10)"
   ]
  },
  {
   "cell_type": "code",
   "execution_count": 40,
   "metadata": {},
   "outputs": [
    {
     "data": {
      "text/html": [
       "<div>\n",
       "<style scoped>\n",
       "    .dataframe tbody tr th:only-of-type {\n",
       "        vertical-align: middle;\n",
       "    }\n",
       "\n",
       "    .dataframe tbody tr th {\n",
       "        vertical-align: top;\n",
       "    }\n",
       "\n",
       "    .dataframe thead th {\n",
       "        text-align: right;\n",
       "    }\n",
       "</style>\n",
       "<table border=\"1\" class=\"dataframe\">\n",
       "  <thead>\n",
       "    <tr style=\"text-align: right;\">\n",
       "      <th></th>\n",
       "      <th>cut_sent</th>\n",
       "      <th>similarity_tfidf</th>\n",
       "    </tr>\n",
       "  </thead>\n",
       "  <tbody>\n",
       "    <tr>\n",
       "      <th>2</th>\n",
       "      <td>Year   ( called   Class   in   the   Classific...</td>\n",
       "      <td>0.203872</td>\n",
       "    </tr>\n",
       "  </tbody>\n",
       "</table>\n",
       "</div>"
      ],
      "text/plain": [
       "                                            cut_sent  similarity_tfidf\n",
       "2  Year   ( called   Class   in   the   Classific...          0.203872"
      ]
     },
     "execution_count": 40,
     "metadata": {},
     "output_type": "execute_result"
    }
   ],
   "source": [
    "threshold = 0.2 # considering the value of p=smiliarity to be greater than 0.2\n",
    "df_threshold = df_simi_tfidf_sort[df_simi_tfidf_sort['similarity_tfidf'] > threshold] \n",
    "df_threshold"
   ]
  },
  {
   "cell_type": "code",
   "execution_count": 41,
   "metadata": {},
   "outputs": [
    {
     "data": {
      "text/plain": [
       "2"
      ]
     },
     "execution_count": 41,
     "metadata": {},
     "output_type": "execute_result"
    }
   ],
   "source": [
    "index_value1 = cos.argmax() # returns the index number of highest value\n",
    "index_value1"
   ]
  },
  {
   "cell_type": "code",
   "execution_count": null,
   "metadata": {},
   "outputs": [],
   "source": []
  },
  {
   "cell_type": "code",
   "execution_count": 42,
   "metadata": {},
   "outputs": [
    {
     "data": {
      "text/plain": [
       "'WHAT DOES THE TERM “YEAR” MEAN?'"
      ]
     },
     "execution_count": 42,
     "metadata": {},
     "output_type": "execute_result"
    }
   ],
   "source": [
    "Question1"
   ]
  },
  {
   "cell_type": "code",
   "execution_count": 43,
   "metadata": {},
   "outputs": [
    {
     "data": {
      "text/plain": [
       "'Year   ( called   Class   in   the   Classification   Tool )   is   the   study   ( Academic )   year   that   a   student   studies .     Programmes   are   made   up   of   modules   and   credits   to   a   predetermined   standard   and   are   designed   to   run   over   a   number   of   study   years .   For   example :   First   year   of   study   on   BA   English   A   second   year   student   on   the   BSc   Math   programme     Penultimate   year   of   study   on   BEng   Final   year   of   study   on   BA   Education   ( part - time )   –   which   could   be   the   student ’ s   6th   year   of   study .   This   is   also   explained   in   the   Rules   for   Award .     HOW   MANY   CREDITS   CAN   A   STUDENT   STUDY ?'"
      ]
     },
     "execution_count": 43,
     "metadata": {},
     "output_type": "execute_result"
    }
   ],
   "source": [
    "df['cut_sent'].loc[index_value1].replace(u'\\xa0', ' ').replace('\\n', ' ')  # returns the text at that index"
   ]
  },
  {
   "cell_type": "code",
   "execution_count": null,
   "metadata": {},
   "outputs": [],
   "source": []
  },
  {
   "cell_type": "code",
   "execution_count": null,
   "metadata": {},
   "outputs": [],
   "source": []
  },
  {
   "cell_type": "code",
   "execution_count": 44,
   "metadata": {},
   "outputs": [],
   "source": [
    "# Function that removes stop words and process the text\n",
    "\n",
    "def stopword_(text):   \n",
    "    tag_list=pos_tag(nltk.word_tokenize(text),tagset=None)\n",
    "    stop=stopwords.words('english')\n",
    "    lema=wordnet.WordNetLemmatizer()\n",
    "    lema_word=[]\n",
    "    for token,pos_token in tag_list:\n",
    "        if token in stop:\n",
    "            continue\n",
    "        if pos_token.startswith('V'):\n",
    "            pos_val='v'\n",
    "        elif pos_token.startswith('J'):\n",
    "            pos_val='a'\n",
    "        elif pos_token.startswith('R'):\n",
    "            pos_val='r'\n",
    "        else:\n",
    "            pos_val='n'\n",
    "        lema_token=lema.lemmatize(token,pos_val)\n",
    "        lema_word.append(lema_token)\n",
    "    return \" \".join(lema_word) "
   ]
  },
  {
   "cell_type": "code",
   "execution_count": 45,
   "metadata": {},
   "outputs": [],
   "source": [
    "# defining a function that returns response to query using bow\n",
    "\n",
    "def chat_bow(text):\n",
    "    s=stopword_(text)\n",
    "    lemma=text_normalization(s) # calling the function to perform text normalization\n",
    "    bow=cv.transform([lemma]).toarray() # applying bow\n",
    "    cosine_value = 1- pairwise_distances(df_bow,bow, metric = 'cosine' )\n",
    "    index_value=cosine_value.argmax() # getting index value \n",
    "    return df['cut_sent'].loc[index_value]"
   ]
  },
  {
   "cell_type": "code",
   "execution_count": null,
   "metadata": {},
   "outputs": [],
   "source": []
  },
  {
   "cell_type": "code",
   "execution_count": null,
   "metadata": {},
   "outputs": [],
   "source": []
  },
  {
   "cell_type": "markdown",
   "metadata": {},
   "source": [
    "# TF_IDF model"
   ]
  },
  {
   "cell_type": "code",
   "execution_count": 46,
   "metadata": {},
   "outputs": [],
   "source": [
    "# defining a function that returns response to query using tf-idf\n",
    "\n",
    "def chat_tfidf(text):\n",
    "    lemma=text_normalization(text) # calling the function to perform text normalization\n",
    "    tf=tfidf.transform([lemma]).toarray() # applying tf-idf\n",
    "    cos=1-pairwise_distances(df_tfidf,tf,metric='cosine') # applying cosine similarity\n",
    "    index_value=cos.argmax() # getting index value \n",
    "    return df['cut_sent'].loc[index_value]"
   ]
  },
  {
   "cell_type": "code",
   "execution_count": null,
   "metadata": {},
   "outputs": [],
   "source": []
  },
  {
   "cell_type": "code",
   "execution_count": 47,
   "metadata": {},
   "outputs": [
    {
     "data": {
      "text/plain": [
       "'Supernumerary   modules   are   modules   chosen   by   students   for   interest   only   and   are   taken   as   extra   credits   on   top   of   the   normal   amount   of   credits   for   the   year   ( i . e .   over   120   credits   in   any   undergraduate   Programme   Year   or   over   180   in   any   postgraduate   Programme   Year ) .    This   means   the   credits   gained   in   supernumerary   modules   cannot   be   counted   for   progression   ( e . g .   a   student   passing   70   credits   plus   a   10 - credit   supernumerary   module   is   not   permitted   to   include   the   supernumerary   credits   to   give   them   the   80   credits   required   to   progress )   or   classification   purposes .  Where   any   supernumerary   modules   ( i . e .   over   120   credits   in   any   undergraduate   Programme   Year   or   over   180   in   any   postgraduate   Programme   Year )   are   required   to   meet   the   learning   outcomes   of   a   specific   programme ,   the   rule   as   to   whether   these   credits   count   for   classification   should   be   stated   in   the   Programme   Specification   and   made   clear   in   corresponding   material   for   students .   Where   students   opt   to   take   supernumerary   modules   outside   of   the   Programme   Specification   these   do   not   count   towards   classification .  Students   are   permitted   to   register   for   up   to   20   credits   of   supernumerary   modules   each   year   ( at   the   discretion   of   the   parent   school )   and   schools   must   inform   the   Exams   and   Progress   team   of   the   choice   at   the   beginning   of   the   session   and   before   the   deadline   for   changing   modules * .   Supernumerary   modules   will   be   recorded   on   Banner   with   a   status   of   SN   and   marks   gained   for   such   modules   will   appear   on   official   transcripts .    Refer   to  Supernumerary   modules  for   further   guidance .  * See   the  Timeline   of   Events  for   deadlines .  WHAT   ARE   AD - HOC / AD   PERSONAM   PROGRAMMES ?'"
      ]
     },
     "execution_count": 47,
     "metadata": {},
     "output_type": "execute_result"
    }
   ],
   "source": [
    "chat_tfidf('Hi, I want to know SUPERNUMERARY MODULES, Can you please tell me?').replace('\\n', '').replace('\\xa0', '')"
   ]
  },
  {
   "cell_type": "code",
   "execution_count": 48,
   "metadata": {},
   "outputs": [
    {
     "data": {
      "text/plain": [
       "'In   exceptional   circumstances   it   may   be   necessary   to   make   time - limited   amendments   to   a   programme   of   study . \\u2028 Where   these   circumstances   relate   to   one   student   or   a   small   number   of   individual   students ,   the   amended   programme   is   referred   to   as   an   ad   personam   programme   variation .  Where   the   circumstances   relate   to   an   entire   cohort   of   students ,   it   is   an   ad   hoc   programme   variation .  \\u2028 Any   ad   personam   or   ad   hoc   programme   variation   is   subject   to   the   approval   of   the   relevant   Pro   Dean   for   Student   Education ,   acting   on   behalf   of   the   Faculty   Taught   Student   Education   Committee   ( FTSEC ) .  The   Head   of   School   must   make   a   case   for   an   ad   personam   or   an   ad   hoc   programme   and   forward   this   onto   the   Exams   and   Progress   team ,   who   will   seek   approval   from   the   Pro   Dean   for   Student   Education .  Refer   to  Ad   personam   and   ad   hoc   programme   variation   process  for   further   guidance .  WHAT   DRIVES   THE   ASSESSMENT    PROGRESS   TEAM   DEADLINES ?'"
      ]
     },
     "execution_count": 48,
     "metadata": {},
     "output_type": "execute_result"
    }
   ],
   "source": [
    "chat_tfidf('Excuse me, I would like to know about AD-HOC/AD PERSONAM PROGRAMMES').replace('\\n', '').replace('\\xa0', '')"
   ]
  },
  {
   "cell_type": "code",
   "execution_count": null,
   "metadata": {},
   "outputs": [],
   "source": []
  },
  {
   "cell_type": "code",
   "execution_count": 49,
   "metadata": {},
   "outputs": [
    {
     "data": {
      "text/plain": [
       "'Year   ( called   Class   in   the   Classification   Tool )   is   the   study   ( Academic )   year   that   a   student   studies .   Programmes   are   made   up   of   modules   and   credits   to   a   predetermined   standard   and   are   designed   to   run   over   a   number   of   study   years .  For   example :  First   year   of   study   on   BA   English  A   second   year   student   on   the   BSc   Math   programme   Penultimate   year   of   study   on   BEng  Final   year   of   study   on   BA   Education   ( part - time )   –   which   could   be   the   student ’ s   6th   year   of   study .  This   is   also   explained   in   the  Rules   for   Award .   HOW   MANY   CREDITS   CAN   A   STUDENT   STUDY ?'"
      ]
     },
     "execution_count": 49,
     "metadata": {},
     "output_type": "execute_result"
    }
   ],
   "source": [
    "chat_tfidf('WHAT DOES THE TERM “YEAR” MEAN?').replace('\\n', '').replace('\\xa0', '')"
   ]
  },
  {
   "cell_type": "code",
   "execution_count": 50,
   "metadata": {},
   "outputs": [
    {
     "data": {
      "text/plain": [
       "'All   undergraduate   students   are   entitled   to   a   re - sit   in   August   ( unless   specifically   precluded   by   the   school ) .  \\u2028 Following   the   August   re - assessment   period ,  if   an   Undergraduate   student   with   a   start   date   prior   to   academic   term   2016 / 2017 ,   has   failed   a   module   which   is   a   must   pass   to   progress   module ,   or   the   student   has   not   achieved   sufficient   credits   to   progress ,   then   the   student   must   become   an   external   student   the   following   session .   If   the   Undergraduate   student   has   a   start   date   in   academic   term   2016 / 2017  they   are   only   permitted   two   attempts   to   pass   a   module .    If   the   student   has   failed   a   module   which   is   a   must   pass   to   progress   module ,   or   the   student   has   not   achieved   sufficient   credits   to   progress ,   having   been   unsuccessful   in   their   final   attempt ,   they   have   exhausted   all   attempts   and   will   therefore   be   required   to   withdraw   from   the   University   of   Leeds .  Only   in   exceptional   circumstances   may   a   student   be   allowed   to   re - sit   internally .   The   exceptional   circumstances   may   be :  The   student   has   missed   too   much   teaching   to   make   any   progress   without   further   teaching .  The   student   has   failed   a   laboratory   module   ( element )   and   needs   to   use   the   laboratory   facilities   to   be   able   to   pass .  The   student   had   mitigating   circumstances   and   has   been   permitted   to   expunge   the   results   of   the   year   and   retake   the   whole   year   internally   as   first   attempts .    Refer   to  External / Carried   module   resits  for   more   information .  HOW   DOES   A   STUDENT   APPLY   TO   RE - SIT ?'"
      ]
     },
     "execution_count": 50,
     "metadata": {},
     "output_type": "execute_result"
    }
   ],
   "source": [
    "chat_tfidf('CAN A STUDENT RETAKE A MODULE THEY HAVE ALREADY PASSED?').replace('\\n', '').replace('\\xa0', '')"
   ]
  },
  {
   "cell_type": "code",
   "execution_count": 51,
   "metadata": {},
   "outputs": [
    {
     "data": {
      "text/plain": [
       "'Where   a   student   transfers   in   credits   against   a   programme   –   they   are   exempted   from   those   credits   and   do   not   have   to   pick   up   a   full   diet .  For   example :  Masters   programme   of   180   credits ,   students   can   transfer   in   up   to   60   credits ,   and   just   study   the   remaining   120   credits .    They   do   not   need   to   top   up   to   180   credits   with   other   modules .    Refer   to  Transfer   to   a   new   programme  for   more   information .      ASSESSMENT   RELATED   QUESTIONS   INCLUDING   RESITS ,   RESIT   FEES ,   EXTERNAL   AND   OVERSEAS   ASSESSMENTS  WHEN   ARE   THE   UNIVERSITY   ASSESSMENT   PERIODS ?'"
      ]
     },
     "execution_count": 51,
     "metadata": {},
     "output_type": "execute_result"
    }
   ],
   "source": [
    "chat_tfidf('IF A STUDENT TRANSFERS TO A DIFFERENT PROGRAMME OF STUDY, DO THEY HAVE TO STUDY 120 CREDITS IF THEY HAVE ALREADY ACHIEVED SOME OF THE RELEVANT CREDITS?').replace('\\n', '').replace('\\xa0', '')"
   ]
  },
  {
   "cell_type": "code",
   "execution_count": 52,
   "metadata": {},
   "outputs": [
    {
     "data": {
      "text/plain": [
       "'If   the   exam   is   a   “ first   attempt ” ,   there   are   no   fees .  If   the   exam   is   not   a   “ first   attempt ” ,   the  re - sit   fees  are : \\u2028 £ 2.00   per   credit   ( i . e .   £ 20.00   for   a   10   credit   module ) \\u2028 plus \\u2028 £ 50.00   administration   fee   ( increases   to   £ 100   after   the   deadline ) .   This   is   a   one - off   fee ,   which   is   the   same   regardless   of   how   many   modules   the   student   takes .  Fees   for   re - sits   taken   in   August   will   be   charged   to   the   student ’ s   University   account   after   31   July .   Fees   for   re - sits   taken   at   other   times   of   the   year   will   be   charged   after   the   application   has   been   processed .    You   will   receive   a   statement   of   fees   by   email   and   must   pay   immediately .    Failure   to   pay   will   result   in   late   payment   administration   charges   of   £ 20   per   month   until   the   debt   is   repaid   in   full .    For   further   information ,   refer   to  http : / / www . leeds . ac . uk / students / waystopay  and  Resits .  CAN   A   STUDENT   TAKE   THEIR   RE - SIT   ASSESSMENT   ABROAD ?'"
      ]
     },
     "execution_count": 52,
     "metadata": {},
     "output_type": "execute_result"
    }
   ],
   "source": [
    "chat_tfidf('HOW MUCH ARE THE RE-SIT FEES?').replace('\\n', '').replace('\\xa0', '')"
   ]
  },
  {
   "cell_type": "code",
   "execution_count": 53,
   "metadata": {},
   "outputs": [
    {
     "data": {
      "text/plain": [
       "\"Re - sit   assessment   dates  Re - sit   assessments   generally   take   place   in   August   ( during   the   two   weeks   prior   to   the   August   bank   holiday ) .   ( See  Assessment   Timetables  for   more   information   on   cohorts ) .  Unfortunately   it   isn ' t   possible   to   find   out   the   exact   date   of   an   assessment   before   the   students   apply   to   re - sit .   This   is   because   the   timetable   is   produced   once   the   information   is   known   of   which   modules   students   have   applied   for .  Students   should   view   their   personal   assessment   timetable   via  Minerva  ( see  Assessment   Timetable   publication   dates ) .  Students   should   check   that   they   have   been   entered   for   the   appropriate   exams ,   and   tell   the   Assessment   &   Progress   Team   immediately   about   any   discrepancies .   Please   refer   to  Assessment   periods   and   timetable   publication   dates  for   further   information .  Assessed - work   deadlines  Students   should   contact   their   school   directly   to   find   out   the   deadlines   for   submitting   assessed   work .  Cancelling   a   re - sit   application  Students   should   email   the  Assessment   &  Progress   Team  to   cancel   a   re - sit   application .  Students   may   only   cancel   up   until   the   start   of   the   relevant  assessment   period .   After   this ,   their   application   will   stand   and   any   re - sit   fees   will   still   be   charged .   Students   will   lose   an   attempt   if   they   do   not   take   the   re - sit .   Refer   to  Resits  for   further   information .  HOW   MUCH   ARE   THE   RE - SIT   FEES ?\""
      ]
     },
     "execution_count": 53,
     "metadata": {},
     "output_type": "execute_result"
    }
   ],
   "source": [
    "chat_tfidf('HOW DO I FIND MY STAFF ONLINE TIMETABLE?').replace('\\n', '').replace('\\xa0', '')"
   ]
  },
  {
   "cell_type": "code",
   "execution_count": 54,
   "metadata": {},
   "outputs": [
    {
     "data": {
      "text/plain": [
       "'When   registering   with   the   University ,   the   student   will   automatically   be   registered   for   all   of   their   compulsory   examinations / assessments   for   the   programme   of   study   they   have   chosen .   Refer   to  When   to   enrol   on   your   modules  on   the   For   Students   site   for   further   information   on   modules   and   how   and   when   to   enrol   on   to   modules .  WHEN   CAN   A   STUDENT   CHANGE   A   MODULE ?'"
      ]
     },
     "execution_count": 54,
     "metadata": {},
     "output_type": "execute_result"
    }
   ],
   "source": [
    "chat_tfidf('VIEW YOUR CLASSLISTS').replace('\\n', '').replace('\\xa0', '')"
   ]
  },
  {
   "cell_type": "code",
   "execution_count": 55,
   "metadata": {},
   "outputs": [
    {
     "data": {
      "text/plain": [
       "'All   undergraduate   students   are   entitled   to   a   re - sit   in   August   ( unless   specifically   precluded   by   the   school ) .  \\u2028 Following   the   August   re - assessment   period ,  if   an   Undergraduate   student   with   a   start   date   prior   to   academic   term   2016 / 2017 ,   has   failed   a   module   which   is   a   must   pass   to   progress   module ,   or   the   student   has   not   achieved   sufficient   credits   to   progress ,   then   the   student   must   become   an   external   student   the   following   session .   If   the   Undergraduate   student   has   a   start   date   in   academic   term   2016 / 2017  they   are   only   permitted   two   attempts   to   pass   a   module .    If   the   student   has   failed   a   module   which   is   a   must   pass   to   progress   module ,   or   the   student   has   not   achieved   sufficient   credits   to   progress ,   having   been   unsuccessful   in   their   final   attempt ,   they   have   exhausted   all   attempts   and   will   therefore   be   required   to   withdraw   from   the   University   of   Leeds .  Only   in   exceptional   circumstances   may   a   student   be   allowed   to   re - sit   internally .   The   exceptional   circumstances   may   be :  The   student   has   missed   too   much   teaching   to   make   any   progress   without   further   teaching .  The   student   has   failed   a   laboratory   module   ( element )   and   needs   to   use   the   laboratory   facilities   to   be   able   to   pass .  The   student   had   mitigating   circumstances   and   has   been   permitted   to   expunge   the   results   of   the   year   and   retake   the   whole   year   internally   as   first   attempts .    Refer   to  External / Carried   module   resits  for   more   information .  HOW   DOES   A   STUDENT   APPLY   TO   RE - SIT ?'"
      ]
     },
     "execution_count": 55,
     "metadata": {},
     "output_type": "execute_result"
    }
   ],
   "source": [
    "chat_tfidf('HOW MANY ATTEMPTS DOES A STUDENT HAVE TO PASS A MODULE?').replace('\\n', '').replace('\\xa0', '')"
   ]
  },
  {
   "cell_type": "code",
   "execution_count": 56,
   "metadata": {},
   "outputs": [
    {
     "data": {
      "text/plain": [
       "\"Undergraduate   full   time   students   must   study   120   credits   per   year   on   a   full - time   programme .  Taught   Postgraduate   full   time   students   must   study   a   minimum   of   180   credits ,   of   which   at   least   135   must   be   ‘ M '   level   credits .  Refer   to  Modules   and   programmes   explained ,  the  Rules   for   Award  and / or   the  Ordinances  for   more   information .  HOW   MANY   ATTEMPTS   DOES   A   STUDENT   HAVE   TO   PASS   A   MODULE ?\""
      ]
     },
     "execution_count": 56,
     "metadata": {},
     "output_type": "execute_result"
    }
   ],
   "source": [
    "chat_tfidf('Hello, I want to Know how many credits can I study?').replace('\\n', '').replace('\\xa0', '')"
   ]
  },
  {
   "cell_type": "code",
   "execution_count": 57,
   "metadata": {},
   "outputs": [
    {
     "data": {
      "text/plain": [
       "'If   the   exam   is   a   “ first   attempt ” ,   there   are   no   fees .  If   the   exam   is   not   a   “ first   attempt ” ,   the  re - sit   fees  are :  £ 2.00   per   credit   ( i . e .   £ 20.00   for   a   10   credit   module )  plus  £ 50.00   administration   fee   ( increases   to   £ 100   after   the   deadline ) .   This   is   a   one - off   fee ,   which   is   the   same   regardless   of   how   many   modules   the   student   takes .  Fees   for   re - sits   taken   in   August   will   be   charged   to   the   student ’ s   University   account   after   31   July .   Fees   for   re - sits   taken   at   other   times   of   the   year   will   be   charged   after   the   application   has   been   processed .    You   will   receive   a   statement   of   fees   by   email   and   must   pay   immediately .    Failure   to   pay   will   result   in   late   payment   administration   charges   of   £ 20   per   month   until   the   debt   is   repaid   in   full .    For   further   information ,   refer   to  http : / / www . leeds . ac . uk / students / waystopay  and  Resits .  CAN   A   STUDENT   TAKE   THEIR   RE - SIT   ASSESSMENT   ABROAD ?'"
      ]
     },
     "execution_count": 57,
     "metadata": {},
     "output_type": "execute_result"
    }
   ],
   "source": [
    "chat_tfidf('HOW MUCH ARE THE RE-SIT FEES?').replace('\\n', '').replace('\\xa0', '').replace('\\u2028', '')\n"
   ]
  },
  {
   "cell_type": "code",
   "execution_count": 58,
   "metadata": {},
   "outputs": [
    {
     "data": {
      "text/plain": [
       "'Level   refers   to   the   level   of   a   module   and   its   credits .  For   example :  CHEM1002   -   a   level   1   module   with   a   credit   value   of   20     i . e .   20   level - 1   credits  BIOC2667   -   a   level   2   module   with   a   credit   value   of   10  CIVE3772   -   a   level   3   module   with   a   credit   value   of   40    i . e .   40   level - 3   credits  LUBS5778M   -   a   level   M   module   with   a   credit   value   of   30  FLTU1559   -   a   level   1   module   with   a   credit   value   of   10   which   can   be   taken   in   any   year   of   study   that   the   programme   specification   allows .  This   is   also   explained   in   the  Rules   for   Award .   WHAT   DOES   THE   TERM   “ YEAR ”   MEAN ?'"
      ]
     },
     "execution_count": 58,
     "metadata": {},
     "output_type": "execute_result"
    }
   ],
   "source": [
    "chat_tfidf('WHAT DOES THE TERM “LEVEL” MEAN?').replace('\\n', '').replace('\\xa0', '')"
   ]
  },
  {
   "cell_type": "code",
   "execution_count": 59,
   "metadata": {},
   "outputs": [],
   "source": [
    "GREETING_INPUTS = (\"hello\", \"hi\", \"how are you\", \"Excuse me\", \"are you here?\",'yeah',\"Thanks\")\n",
    "GREETING_RESPONSES = [\"hello\", \"Excuse me, How can I help you?\", \"yes,I'm here\", \"I'm fine\",\"Hello, nice to meet you！\"]\n",
    "\n",
    "def greeting(sentence):\n",
    "    rule = re.compile(u\"[^a-zA-Z0-9\\u4E00-\\u9FA5]\")\n",
    "    text = rule.sub('',sentence)\n",
    "    if text in GREETING_INPUTS:\n",
    "        return random.choice(GREETING_RESPONSES)\n",
    "    wordlist =  [w for w in jb.cut(sentence)]\n",
    "    for word in wordlist:\n",
    "        if word in GREETING_INPUTS:\n",
    "            return random.choice(GREETING_RESPONSES)\n",
    "        \n",
    "greeting('are you here?')"
   ]
  },
  {
   "cell_type": "code",
   "execution_count": 60,
   "metadata": {},
   "outputs": [],
   "source": [
    "greeting('有人在吗？')"
   ]
  },
  {
   "cell_type": "code",
   "execution_count": 61,
   "metadata": {},
   "outputs": [],
   "source": [
    "def response(user_response):\n",
    "    robo_response=''\n",
    "    user_response  = remove_punctuation(user_response)\n",
    "    user_response= \" \".join([w for w in list(jb.cut(user_response)) if w not in stop])\n",
    "    cut_sent = df.cut_sent.values.tolist()\n",
    "    cut_sent.append(user_response)\n",
    "    tfidf = TfidfVectorizer()\n",
    "\n",
    "    tfidf_vec = tfidf.fit_transform(cut_sent)\n",
    "\n",
    "    cos_sim = cosine_similarity(tfidf_vec[-1], tfidf_vec)\n",
    "    idx=cos_sim.argsort()[0][-2]\n",
    "    flat = cos_sim.flatten()\n",
    "    flat.sort()\n",
    "    req_tfidf = flat[-2]\n",
    "\n",
    "    if(req_tfidf==0):\n",
    "        robo_response=robo_response+\"Sorry, I don't quite understand what you mean, I'm still a rookie...!\"\n",
    "        return(robo_response)\n",
    "    else:\n",
    "        robo_response = robo_response+df.sent.values[idx]\n",
    "        return(robo_response) \n",
    "        \n",
    "\n"
   ]
  },
  {
   "cell_type": "code",
   "execution_count": null,
   "metadata": {},
   "outputs": [
    {
     "name": "stdout",
     "output_type": "stream",
     "text": [
      "Chatbot: My name is Carol. I can answer your questions about school education information. If you wish to exit, please enter:bye !\n"
     ]
    }
   ],
   "source": [
    "flag=True\n",
    "print(\"Chatbot: My name is Carol. I can answer your questions about school education information. If you wish to exit, please enter:bye !\")\n",
    "\n",
    "while(flag==True):\n",
    "    user_response = input()\n",
    "    user_response=user_response.lower()\n",
    "    if(user_response!='bye'):\n",
    "        if(user_response=='Thanks' or user_response=='Thank you' ):\n",
    "            flag=True\n",
    "            print(\"Chatbot: No worries！\")\n",
    "        else:\n",
    "            if(greeting(user_response)!=None):\n",
    "                print(\"Chatbot: \"+greeting(user_response))\n",
    "            else:\n",
    "                print(\"Chatbot: \",end=\"\")\n",
    "                print(response(user_response))\n",
    "               \n",
    "    else:\n",
    "        flag=False\n",
    "        print(\"Carol: Bye! Feel free to ask again!\")    "
   ]
  },
  {
   "cell_type": "code",
   "execution_count": null,
   "metadata": {},
   "outputs": [],
   "source": []
  },
  {
   "cell_type": "code",
   "execution_count": null,
   "metadata": {},
   "outputs": [],
   "source": []
  }
 ],
 "metadata": {
  "kernelspec": {
   "display_name": "Python 3",
   "language": "python",
   "name": "python3"
  },
  "language_info": {
   "codemirror_mode": {
    "name": "ipython",
    "version": 3
   },
   "file_extension": ".py",
   "mimetype": "text/x-python",
   "name": "python",
   "nbconvert_exporter": "python",
   "pygments_lexer": "ipython3",
   "version": "3.8.3"
  }
 },
 "nbformat": 4,
 "nbformat_minor": 2
}
